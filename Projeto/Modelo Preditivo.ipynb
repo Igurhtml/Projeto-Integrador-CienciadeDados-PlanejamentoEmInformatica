{
  "cells": [
    {
      "cell_type": "markdown",
      "metadata": {
        "id": "yXPyTpNltDOD"
      },
      "source": [
        "# Bibliotecas"
      ]
    },
    {
      "cell_type": "code",
      "execution_count": 103,
      "metadata": {},
      "outputs": [
        {
          "name": "stdout",
          "output_type": "stream",
          "text": [
            "Todas as bibliotecas foram importadas com sucesso!\n"
          ]
        }
      ],
      "source": [
        "import numpy as np\n",
        "import pandas as pd\n",
        "import seaborn as sns\n",
        "import matplotlib.pyplot as plt\n",
        "from sklearn.preprocessing import StandardScaler\n",
        "from sklearn.preprocessing import LabelEncoder\n",
        "from sklearn.model_selection import train_test_split\n",
        "from sklearn.metrics import precision_score, recall_score, f1_score, accuracy_score, roc_auc_score\n",
        "from sklearn import svm\n",
        "from datetime import datetime\n",
        "from sklearn.compose import ColumnTransformer\n",
        "from sklearn.preprocessing import StandardScaler\n",
        "from imblearn.pipeline import Pipeline\n",
        "from imblearn.over_sampling import SMOTE\n",
        "import time \n",
        "from sklearn.model_selection import RandomizedSearchCV, GridSearchCV\n",
        "from sklearn import svm\n",
        "import xgboost as xgb\n",
        "import warnings\n",
        "\n",
        "\n",
        "print(\"Todas as bibliotecas foram importadas com sucesso!\")\n"
      ]
    },
    {
      "cell_type": "code",
      "execution_count": 2,
      "metadata": {
        "colab": {
          "base_uri": "https://localhost:8080/",
          "height": 206
        },
        "id": "NJRilpVZuLQX",
        "outputId": "912ea975-cde3-4493-e987-41d48cac817f"
      },
      "outputs": [
        {
          "data": {
            "text/html": [
              "<div>\n",
              "<style scoped>\n",
              "    .dataframe tbody tr th:only-of-type {\n",
              "        vertical-align: middle;\n",
              "    }\n",
              "\n",
              "    .dataframe tbody tr th {\n",
              "        vertical-align: top;\n",
              "    }\n",
              "\n",
              "    .dataframe thead th {\n",
              "        text-align: right;\n",
              "    }\n",
              "</style>\n",
              "<table border=\"1\" class=\"dataframe\">\n",
              "  <thead>\n",
              "    <tr style=\"text-align: right;\">\n",
              "      <th></th>\n",
              "      <th>Customer ID</th>\n",
              "      <th>Purchase Date</th>\n",
              "      <th>Product Category</th>\n",
              "      <th>Product Price</th>\n",
              "      <th>Quantity</th>\n",
              "      <th>Total Purchase Amount</th>\n",
              "      <th>Payment Method</th>\n",
              "      <th>Customer Age</th>\n",
              "      <th>Returns</th>\n",
              "      <th>Customer Name</th>\n",
              "      <th>Age</th>\n",
              "      <th>Gender</th>\n",
              "      <th>Churn</th>\n",
              "    </tr>\n",
              "  </thead>\n",
              "  <tbody>\n",
              "    <tr>\n",
              "      <th>0</th>\n",
              "      <td>46251</td>\n",
              "      <td>2020-09-08 09:38:32</td>\n",
              "      <td>Electronics</td>\n",
              "      <td>12</td>\n",
              "      <td>3</td>\n",
              "      <td>740</td>\n",
              "      <td>Credit Card</td>\n",
              "      <td>37</td>\n",
              "      <td>0.0</td>\n",
              "      <td>Christine Hernandez</td>\n",
              "      <td>37</td>\n",
              "      <td>Male</td>\n",
              "      <td>0</td>\n",
              "    </tr>\n",
              "    <tr>\n",
              "      <th>1</th>\n",
              "      <td>46251</td>\n",
              "      <td>2022-03-05 12:56:35</td>\n",
              "      <td>Home</td>\n",
              "      <td>468</td>\n",
              "      <td>4</td>\n",
              "      <td>2739</td>\n",
              "      <td>PayPal</td>\n",
              "      <td>37</td>\n",
              "      <td>0.0</td>\n",
              "      <td>Christine Hernandez</td>\n",
              "      <td>37</td>\n",
              "      <td>Male</td>\n",
              "      <td>0</td>\n",
              "    </tr>\n",
              "    <tr>\n",
              "      <th>2</th>\n",
              "      <td>46251</td>\n",
              "      <td>2022-05-23 18:18:01</td>\n",
              "      <td>Home</td>\n",
              "      <td>288</td>\n",
              "      <td>2</td>\n",
              "      <td>3196</td>\n",
              "      <td>PayPal</td>\n",
              "      <td>37</td>\n",
              "      <td>0.0</td>\n",
              "      <td>Christine Hernandez</td>\n",
              "      <td>37</td>\n",
              "      <td>Male</td>\n",
              "      <td>0</td>\n",
              "    </tr>\n",
              "    <tr>\n",
              "      <th>3</th>\n",
              "      <td>46251</td>\n",
              "      <td>2020-11-12 13:13:29</td>\n",
              "      <td>Clothing</td>\n",
              "      <td>196</td>\n",
              "      <td>1</td>\n",
              "      <td>3509</td>\n",
              "      <td>PayPal</td>\n",
              "      <td>37</td>\n",
              "      <td>0.0</td>\n",
              "      <td>Christine Hernandez</td>\n",
              "      <td>37</td>\n",
              "      <td>Male</td>\n",
              "      <td>0</td>\n",
              "    </tr>\n",
              "    <tr>\n",
              "      <th>4</th>\n",
              "      <td>13593</td>\n",
              "      <td>2020-11-27 17:55:11</td>\n",
              "      <td>Home</td>\n",
              "      <td>449</td>\n",
              "      <td>1</td>\n",
              "      <td>3452</td>\n",
              "      <td>Credit Card</td>\n",
              "      <td>49</td>\n",
              "      <td>0.0</td>\n",
              "      <td>James Grant</td>\n",
              "      <td>49</td>\n",
              "      <td>Female</td>\n",
              "      <td>1</td>\n",
              "    </tr>\n",
              "  </tbody>\n",
              "</table>\n",
              "</div>"
            ],
            "text/plain": [
              "   Customer ID        Purchase Date Product Category  Product Price  Quantity  \\\n",
              "0        46251  2020-09-08 09:38:32      Electronics             12         3   \n",
              "1        46251  2022-03-05 12:56:35             Home            468         4   \n",
              "2        46251  2022-05-23 18:18:01             Home            288         2   \n",
              "3        46251  2020-11-12 13:13:29         Clothing            196         1   \n",
              "4        13593  2020-11-27 17:55:11             Home            449         1   \n",
              "\n",
              "   Total Purchase Amount Payment Method  Customer Age  Returns  \\\n",
              "0                    740    Credit Card            37      0.0   \n",
              "1                   2739         PayPal            37      0.0   \n",
              "2                   3196         PayPal            37      0.0   \n",
              "3                   3509         PayPal            37      0.0   \n",
              "4                   3452    Credit Card            49      0.0   \n",
              "\n",
              "         Customer Name  Age  Gender  Churn  \n",
              "0  Christine Hernandez   37    Male      0  \n",
              "1  Christine Hernandez   37    Male      0  \n",
              "2  Christine Hernandez   37    Male      0  \n",
              "3  Christine Hernandez   37    Male      0  \n",
              "4          James Grant   49  Female      1  "
            ]
          },
          "execution_count": 2,
          "metadata": {},
          "output_type": "execute_result"
        }
      ],
      "source": [
        "#Importando os dados\n",
        "dados_vendas = pd.read_csv('dados\\ecommerce_customer_data_custom_ratios.csv', low_memory=False)\n",
        "\n",
        "# Visualizando as primeiras linhas do dataset\n",
        "dados_vendas.head()\n"
      ]
    },
    {
      "cell_type": "markdown",
      "metadata": {
        "id": "8swuMNPzxftr"
      },
      "source": [
        "# Dicionário:"
      ]
    },
    {
      "cell_type": "markdown",
      "metadata": {
        "id": "Bno2wi6zug5B"
      },
      "source": [
        "* Customer ID: Identificação única do cliente.\n",
        "* Purchase Date: Data e hora da compra.\n",
        "* Product Category: Categoria do produto comprado.\n",
        "* Product Price: Preço unitário do produto.\n",
        "* Quantity: Quantidade de produtos comprados.\n",
        "* Total Purchase Amount: Valor total da compra.\n",
        "* Payment Method: Método de pagamento utilizado para a compra.\n",
        "* Customer Age: Idade do cliente.\n",
        "* Returns: Número de devoluções realizadas pelo cliente.\n",
        "* Customer Name: Nome do cliente.\n",
        "* Age: Idade do cliente (outra representação).\n",
        "* Gender: Gênero do cliente.\n",
        "* Churn: Indica se o cliente cancelou ou não o serviço/produto."
      ]
    },
    {
      "cell_type": "markdown",
      "metadata": {
        "id": "uJCqRQVfvNDl"
      },
      "source": [
        "# Análise Exploratória"
      ]
    },
    {
      "cell_type": "code",
      "execution_count": 3,
      "metadata": {
        "colab": {
          "base_uri": "https://localhost:8080/"
        },
        "id": "Lbkn8kLN3dsD",
        "outputId": "57481b38-9736-49a9-d6be-5dac6b56959a"
      },
      "outputs": [
        {
          "data": {
            "text/plain": [
              "(250000, 13)"
            ]
          },
          "execution_count": 3,
          "metadata": {},
          "output_type": "execute_result"
        }
      ],
      "source": [
        "# Shape dos dados\n",
        "dados_vendas.shape"
      ]
    },
    {
      "cell_type": "code",
      "execution_count": 4,
      "metadata": {
        "colab": {
          "base_uri": "https://localhost:8080/"
        },
        "id": "1CCt1cwA3tAE",
        "outputId": "b1f228c7-d48d-4adb-adaf-cdd04a7cf3ee"
      },
      "outputs": [
        {
          "data": {
            "text/plain": [
              "Customer ID                int64\n",
              "Purchase Date             object\n",
              "Product Category          object\n",
              "Product Price              int64\n",
              "Quantity                   int64\n",
              "Total Purchase Amount      int64\n",
              "Payment Method            object\n",
              "Customer Age               int64\n",
              "Returns                  float64\n",
              "Customer Name             object\n",
              "Age                        int64\n",
              "Gender                    object\n",
              "Churn                      int64\n",
              "dtype: object"
            ]
          },
          "execution_count": 4,
          "metadata": {},
          "output_type": "execute_result"
        }
      ],
      "source": [
        "# Tipos dos Dados\n",
        "dados_vendas.dtypes"
      ]
    },
    {
      "cell_type": "code",
      "execution_count": 5,
      "metadata": {
        "colab": {
          "base_uri": "https://localhost:8080/"
        },
        "id": "4w-NVpLq3Mov",
        "outputId": "0558650b-993c-4db3-e59f-879b96ab7bcc"
      },
      "outputs": [
        {
          "name": "stdout",
          "output_type": "stream",
          "text": [
            "Número de atributos categóricos: 5\n",
            "Número de atributos numéricos: 8\n"
          ]
        }
      ],
      "source": [
        "# Contar atributos categóricos (tipo object)\n",
        "num_categoricos = len(dados_vendas.select_dtypes(include=['object']).columns)\n",
        "\n",
        "# Contar atributos numéricos (excluindo 'object')\n",
        "num_numericos = len(dados_vendas.columns) - num_categoricos\n",
        "\n",
        "print(\"Número de atributos categóricos:\", num_categoricos)\n",
        "print(\"Número de atributos numéricos:\", num_numericos)\n"
      ]
    },
    {
      "cell_type": "code",
      "execution_count": 6,
      "metadata": {
        "colab": {
          "base_uri": "https://localhost:8080/"
        },
        "id": "gsdojAzU32sY",
        "outputId": "42ef2f53-05a9-403b-b577-d31b9a0a1d62"
      },
      "outputs": [
        {
          "name": "stdout",
          "output_type": "stream",
          "text": [
            "Customer ID                  0\n",
            "Purchase Date                0\n",
            "Product Category             0\n",
            "Product Price                0\n",
            "Quantity                     0\n",
            "Total Purchase Amount        0\n",
            "Payment Method               0\n",
            "Customer Age                 0\n",
            "Returns                  47596\n",
            "Customer Name                0\n",
            "Age                          0\n",
            "Gender                       0\n",
            "Churn                        0\n",
            "dtype: int64\n"
          ]
        }
      ],
      "source": [
        "#Verificação de valores faltantes\n",
        "print(dados_vendas.isna().sum())"
      ]
    },
    {
      "cell_type": "code",
      "execution_count": 7,
      "metadata": {
        "id": "wbQphI4D4M3V"
      },
      "outputs": [],
      "source": [
        "# Removendo as linhas com os valores faltantes\n",
        "dados_vendas.dropna(inplace = True)"
      ]
    },
    {
      "cell_type": "code",
      "execution_count": 8,
      "metadata": {
        "colab": {
          "base_uri": "https://localhost:8080/"
        },
        "id": "G8G8PE6M4a_M",
        "outputId": "335fa035-491c-4475-c8fb-c1634e30d7d3"
      },
      "outputs": [
        {
          "name": "stdout",
          "output_type": "stream",
          "text": [
            "Customer ID              0\n",
            "Purchase Date            0\n",
            "Product Category         0\n",
            "Product Price            0\n",
            "Quantity                 0\n",
            "Total Purchase Amount    0\n",
            "Payment Method           0\n",
            "Customer Age             0\n",
            "Returns                  0\n",
            "Customer Name            0\n",
            "Age                      0\n",
            "Gender                   0\n",
            "Churn                    0\n",
            "dtype: int64\n"
          ]
        }
      ],
      "source": [
        "#Verificação de valores faltantes\n",
        "print(dados_vendas.isna().sum())"
      ]
    },
    {
      "cell_type": "code",
      "execution_count": 9,
      "metadata": {
        "colab": {
          "base_uri": "https://localhost:8080/"
        },
        "id": "4yTs1hgv4kSN",
        "outputId": "a0cd2bc4-8177-4d38-f06f-0ba8b926cf67"
      },
      "outputs": [
        {
          "data": {
            "text/plain": [
              "(202404, 13)"
            ]
          },
          "execution_count": 9,
          "metadata": {},
          "output_type": "execute_result"
        }
      ],
      "source": [
        "# Shape dos dados\n",
        "dados_vendas.shape"
      ]
    },
    {
      "cell_type": "code",
      "execution_count": 10,
      "metadata": {
        "colab": {
          "base_uri": "https://localhost:8080/"
        },
        "id": "wcv1j0NI4tmZ",
        "outputId": "d006ea02-31d6-4bc3-9798-ed37c4824a52"
      },
      "outputs": [
        {
          "data": {
            "text/plain": [
              "Customer ID               49139\n",
              "Purchase Date            202223\n",
              "Product Category              4\n",
              "Product Price               491\n",
              "Quantity                      5\n",
              "Total Purchase Amount      5244\n",
              "Payment Method                4\n",
              "Customer Age                 53\n",
              "Returns                       2\n",
              "Customer Name             39547\n",
              "Age                          53\n",
              "Gender                        2\n",
              "Churn                         2\n",
              "dtype: int64"
            ]
          },
          "execution_count": 10,
          "metadata": {},
          "output_type": "execute_result"
        }
      ],
      "source": [
        "dados_vendas.nunique()"
      ]
    },
    {
      "cell_type": "code",
      "execution_count": 11,
      "metadata": {},
      "outputs": [],
      "source": [
        "# Convertendo as colunas para inteiros\n",
        "\n",
        "dados_vendas['Churn'] = dados_vendas['Churn'].astype(int)\n",
        "dados_vendas['Returns'] = dados_vendas['Returns'].astype(int)\n"
      ]
    },
    {
      "cell_type": "code",
      "execution_count": 12,
      "metadata": {},
      "outputs": [
        {
          "data": {
            "text/plain": [
              "Customer ID               int64\n",
              "Purchase Date            object\n",
              "Product Category         object\n",
              "Product Price             int64\n",
              "Quantity                  int64\n",
              "Total Purchase Amount     int64\n",
              "Payment Method           object\n",
              "Customer Age              int64\n",
              "Returns                   int32\n",
              "Customer Name            object\n",
              "Age                       int64\n",
              "Gender                   object\n",
              "Churn                     int32\n",
              "dtype: object"
            ]
          },
          "execution_count": 12,
          "metadata": {},
          "output_type": "execute_result"
        }
      ],
      "source": [
        "# Tipos dos Dados\n",
        "dados_vendas.dtypes"
      ]
    },
    {
      "cell_type": "code",
      "execution_count": 13,
      "metadata": {},
      "outputs": [
        {
          "data": {
            "text/html": [
              "<div>\n",
              "<style scoped>\n",
              "    .dataframe tbody tr th:only-of-type {\n",
              "        vertical-align: middle;\n",
              "    }\n",
              "\n",
              "    .dataframe tbody tr th {\n",
              "        vertical-align: top;\n",
              "    }\n",
              "\n",
              "    .dataframe thead th {\n",
              "        text-align: right;\n",
              "    }\n",
              "</style>\n",
              "<table border=\"1\" class=\"dataframe\">\n",
              "  <thead>\n",
              "    <tr style=\"text-align: right;\">\n",
              "      <th></th>\n",
              "      <th>Customer ID</th>\n",
              "      <th>Purchase Date</th>\n",
              "      <th>Product Category</th>\n",
              "      <th>Product Price</th>\n",
              "      <th>Quantity</th>\n",
              "      <th>Total Purchase Amount</th>\n",
              "      <th>Payment Method</th>\n",
              "      <th>Customer Age</th>\n",
              "      <th>Returns</th>\n",
              "      <th>Customer Name</th>\n",
              "      <th>Age</th>\n",
              "      <th>Gender</th>\n",
              "      <th>Churn</th>\n",
              "    </tr>\n",
              "  </thead>\n",
              "  <tbody>\n",
              "    <tr>\n",
              "      <th>0</th>\n",
              "      <td>46251</td>\n",
              "      <td>2020-09-08 09:38:32</td>\n",
              "      <td>Electronics</td>\n",
              "      <td>12</td>\n",
              "      <td>3</td>\n",
              "      <td>740</td>\n",
              "      <td>Credit Card</td>\n",
              "      <td>37</td>\n",
              "      <td>0</td>\n",
              "      <td>Christine Hernandez</td>\n",
              "      <td>37</td>\n",
              "      <td>Male</td>\n",
              "      <td>0</td>\n",
              "    </tr>\n",
              "    <tr>\n",
              "      <th>1</th>\n",
              "      <td>46251</td>\n",
              "      <td>2022-03-05 12:56:35</td>\n",
              "      <td>Home</td>\n",
              "      <td>468</td>\n",
              "      <td>4</td>\n",
              "      <td>2739</td>\n",
              "      <td>PayPal</td>\n",
              "      <td>37</td>\n",
              "      <td>0</td>\n",
              "      <td>Christine Hernandez</td>\n",
              "      <td>37</td>\n",
              "      <td>Male</td>\n",
              "      <td>0</td>\n",
              "    </tr>\n",
              "    <tr>\n",
              "      <th>2</th>\n",
              "      <td>46251</td>\n",
              "      <td>2022-05-23 18:18:01</td>\n",
              "      <td>Home</td>\n",
              "      <td>288</td>\n",
              "      <td>2</td>\n",
              "      <td>3196</td>\n",
              "      <td>PayPal</td>\n",
              "      <td>37</td>\n",
              "      <td>0</td>\n",
              "      <td>Christine Hernandez</td>\n",
              "      <td>37</td>\n",
              "      <td>Male</td>\n",
              "      <td>0</td>\n",
              "    </tr>\n",
              "    <tr>\n",
              "      <th>3</th>\n",
              "      <td>46251</td>\n",
              "      <td>2020-11-12 13:13:29</td>\n",
              "      <td>Clothing</td>\n",
              "      <td>196</td>\n",
              "      <td>1</td>\n",
              "      <td>3509</td>\n",
              "      <td>PayPal</td>\n",
              "      <td>37</td>\n",
              "      <td>0</td>\n",
              "      <td>Christine Hernandez</td>\n",
              "      <td>37</td>\n",
              "      <td>Male</td>\n",
              "      <td>0</td>\n",
              "    </tr>\n",
              "    <tr>\n",
              "      <th>4</th>\n",
              "      <td>13593</td>\n",
              "      <td>2020-11-27 17:55:11</td>\n",
              "      <td>Home</td>\n",
              "      <td>449</td>\n",
              "      <td>1</td>\n",
              "      <td>3452</td>\n",
              "      <td>Credit Card</td>\n",
              "      <td>49</td>\n",
              "      <td>0</td>\n",
              "      <td>James Grant</td>\n",
              "      <td>49</td>\n",
              "      <td>Female</td>\n",
              "      <td>1</td>\n",
              "    </tr>\n",
              "  </tbody>\n",
              "</table>\n",
              "</div>"
            ],
            "text/plain": [
              "   Customer ID        Purchase Date Product Category  Product Price  Quantity  \\\n",
              "0        46251  2020-09-08 09:38:32      Electronics             12         3   \n",
              "1        46251  2022-03-05 12:56:35             Home            468         4   \n",
              "2        46251  2022-05-23 18:18:01             Home            288         2   \n",
              "3        46251  2020-11-12 13:13:29         Clothing            196         1   \n",
              "4        13593  2020-11-27 17:55:11             Home            449         1   \n",
              "\n",
              "   Total Purchase Amount Payment Method  Customer Age  Returns  \\\n",
              "0                    740    Credit Card            37        0   \n",
              "1                   2739         PayPal            37        0   \n",
              "2                   3196         PayPal            37        0   \n",
              "3                   3509         PayPal            37        0   \n",
              "4                   3452    Credit Card            49        0   \n",
              "\n",
              "         Customer Name  Age  Gender  Churn  \n",
              "0  Christine Hernandez   37    Male      0  \n",
              "1  Christine Hernandez   37    Male      0  \n",
              "2  Christine Hernandez   37    Male      0  \n",
              "3  Christine Hernandez   37    Male      0  \n",
              "4          James Grant   49  Female      1  "
            ]
          },
          "execution_count": 13,
          "metadata": {},
          "output_type": "execute_result"
        }
      ],
      "source": [
        "# Visualizando as primeiras linhas do dataset\n",
        "dados_vendas.head()"
      ]
    },
    {
      "cell_type": "markdown",
      "metadata": {
        "id": "UJk-XMRN6b1P"
      },
      "source": [
        "# Divisão das variáveis continuas e categóricas, para uma melhor visualização trataremos as variáveis com menos de 30 entradas únicas como categóricas."
      ]
    },
    {
      "cell_type": "code",
      "execution_count": 14,
      "metadata": {},
      "outputs": [
        {
          "name": "stdout",
          "output_type": "stream",
          "text": [
            "Variáveis Contínuas: ['Customer ID', 'Purchase Date', 'Product Price', 'Total Purchase Amount', 'Customer Age', 'Age']\n",
            "Variáveis Categóricas: ['Product Category', 'Quantity', 'Payment Method', 'Returns', 'Customer Name', 'Gender', 'Churn']\n"
          ]
        }
      ],
      "source": [
        "\n",
        "#Criando uma Cópia do dataset original\n",
        "df = dados_vendas.copy()\n",
        "\n",
        "# Listas para variáveis contínuas e categóricas\n",
        "continuous = []\n",
        "categorical = []\n",
        "\n",
        "# Separando as colunas \n",
        "for c in df.columns:\n",
        "    if df.nunique()[c] >= 30 and c != 'Customer Name':\n",
        "        continuous.append(c)\n",
        "    else:\n",
        "        categorical.append(c)\n",
        "\n",
        "print(\"Variáveis Contínuas:\", continuous)\n",
        "print(\"Variáveis Categóricas:\", categorical)"
      ]
    },
    {
      "cell_type": "code",
      "execution_count": 15,
      "metadata": {},
      "outputs": [
        {
          "data": {
            "text/html": [
              "<div>\n",
              "<style scoped>\n",
              "    .dataframe tbody tr th:only-of-type {\n",
              "        vertical-align: middle;\n",
              "    }\n",
              "\n",
              "    .dataframe tbody tr th {\n",
              "        vertical-align: top;\n",
              "    }\n",
              "\n",
              "    .dataframe thead th {\n",
              "        text-align: right;\n",
              "    }\n",
              "</style>\n",
              "<table border=\"1\" class=\"dataframe\">\n",
              "  <thead>\n",
              "    <tr style=\"text-align: right;\">\n",
              "      <th></th>\n",
              "      <th>Customer ID</th>\n",
              "      <th>Purchase Date</th>\n",
              "      <th>Product Category</th>\n",
              "      <th>Product Price</th>\n",
              "      <th>Quantity</th>\n",
              "      <th>Total Purchase Amount</th>\n",
              "      <th>Payment Method</th>\n",
              "      <th>Customer Age</th>\n",
              "      <th>Returns</th>\n",
              "      <th>Customer Name</th>\n",
              "      <th>Age</th>\n",
              "      <th>Gender</th>\n",
              "      <th>Churn</th>\n",
              "    </tr>\n",
              "  </thead>\n",
              "  <tbody>\n",
              "    <tr>\n",
              "      <th>0</th>\n",
              "      <td>46251</td>\n",
              "      <td>2020-09-08 09:38:32</td>\n",
              "      <td>Electronics</td>\n",
              "      <td>12</td>\n",
              "      <td>3</td>\n",
              "      <td>740</td>\n",
              "      <td>Credit Card</td>\n",
              "      <td>37</td>\n",
              "      <td>0</td>\n",
              "      <td>Christine Hernandez</td>\n",
              "      <td>37</td>\n",
              "      <td>Male</td>\n",
              "      <td>0</td>\n",
              "    </tr>\n",
              "    <tr>\n",
              "      <th>1</th>\n",
              "      <td>46251</td>\n",
              "      <td>2022-03-05 12:56:35</td>\n",
              "      <td>Home</td>\n",
              "      <td>468</td>\n",
              "      <td>4</td>\n",
              "      <td>2739</td>\n",
              "      <td>PayPal</td>\n",
              "      <td>37</td>\n",
              "      <td>0</td>\n",
              "      <td>Christine Hernandez</td>\n",
              "      <td>37</td>\n",
              "      <td>Male</td>\n",
              "      <td>0</td>\n",
              "    </tr>\n",
              "    <tr>\n",
              "      <th>2</th>\n",
              "      <td>46251</td>\n",
              "      <td>2022-05-23 18:18:01</td>\n",
              "      <td>Home</td>\n",
              "      <td>288</td>\n",
              "      <td>2</td>\n",
              "      <td>3196</td>\n",
              "      <td>PayPal</td>\n",
              "      <td>37</td>\n",
              "      <td>0</td>\n",
              "      <td>Christine Hernandez</td>\n",
              "      <td>37</td>\n",
              "      <td>Male</td>\n",
              "      <td>0</td>\n",
              "    </tr>\n",
              "    <tr>\n",
              "      <th>3</th>\n",
              "      <td>46251</td>\n",
              "      <td>2020-11-12 13:13:29</td>\n",
              "      <td>Clothing</td>\n",
              "      <td>196</td>\n",
              "      <td>1</td>\n",
              "      <td>3509</td>\n",
              "      <td>PayPal</td>\n",
              "      <td>37</td>\n",
              "      <td>0</td>\n",
              "      <td>Christine Hernandez</td>\n",
              "      <td>37</td>\n",
              "      <td>Male</td>\n",
              "      <td>0</td>\n",
              "    </tr>\n",
              "    <tr>\n",
              "      <th>4</th>\n",
              "      <td>13593</td>\n",
              "      <td>2020-11-27 17:55:11</td>\n",
              "      <td>Home</td>\n",
              "      <td>449</td>\n",
              "      <td>1</td>\n",
              "      <td>3452</td>\n",
              "      <td>Credit Card</td>\n",
              "      <td>49</td>\n",
              "      <td>0</td>\n",
              "      <td>James Grant</td>\n",
              "      <td>49</td>\n",
              "      <td>Female</td>\n",
              "      <td>1</td>\n",
              "    </tr>\n",
              "  </tbody>\n",
              "</table>\n",
              "</div>"
            ],
            "text/plain": [
              "   Customer ID        Purchase Date Product Category  Product Price  Quantity  \\\n",
              "0        46251  2020-09-08 09:38:32      Electronics             12         3   \n",
              "1        46251  2022-03-05 12:56:35             Home            468         4   \n",
              "2        46251  2022-05-23 18:18:01             Home            288         2   \n",
              "3        46251  2020-11-12 13:13:29         Clothing            196         1   \n",
              "4        13593  2020-11-27 17:55:11             Home            449         1   \n",
              "\n",
              "   Total Purchase Amount Payment Method  Customer Age  Returns  \\\n",
              "0                    740    Credit Card            37        0   \n",
              "1                   2739         PayPal            37        0   \n",
              "2                   3196         PayPal            37        0   \n",
              "3                   3509         PayPal            37        0   \n",
              "4                   3452    Credit Card            49        0   \n",
              "\n",
              "         Customer Name  Age  Gender  Churn  \n",
              "0  Christine Hernandez   37    Male      0  \n",
              "1  Christine Hernandez   37    Male      0  \n",
              "2  Christine Hernandez   37    Male      0  \n",
              "3  Christine Hernandez   37    Male      0  \n",
              "4          James Grant   49  Female      1  "
            ]
          },
          "execution_count": 15,
          "metadata": {},
          "output_type": "execute_result"
        }
      ],
      "source": [
        "# Visualizando as primeiras linhas do dataset\n",
        "df.head()"
      ]
    },
    {
      "cell_type": "code",
      "execution_count": 16,
      "metadata": {
        "colab": {
          "base_uri": "https://localhost:8080/"
        },
        "id": "hhtwH5b76MaS",
        "outputId": "fa816671-d724-4331-9dc9-92dc30f06b90"
      },
      "outputs": [
        {
          "data": {
            "text/plain": [
              "['Customer ID',\n",
              " 'Purchase Date',\n",
              " 'Product Price',\n",
              " 'Total Purchase Amount',\n",
              " 'Customer Age',\n",
              " 'Age']"
            ]
          },
          "execution_count": 16,
          "metadata": {},
          "output_type": "execute_result"
        }
      ],
      "source": [
        "continuous"
      ]
    },
    {
      "cell_type": "code",
      "execution_count": 17,
      "metadata": {
        "colab": {
          "base_uri": "https://localhost:8080/",
          "height": 206
        },
        "id": "JtG7Hmaz6xqS",
        "outputId": "7a389bec-9577-4e04-b366-ca2b5e56adc5"
      },
      "outputs": [
        {
          "data": {
            "text/html": [
              "<div>\n",
              "<style scoped>\n",
              "    .dataframe tbody tr th:only-of-type {\n",
              "        vertical-align: middle;\n",
              "    }\n",
              "\n",
              "    .dataframe tbody tr th {\n",
              "        vertical-align: top;\n",
              "    }\n",
              "\n",
              "    .dataframe thead th {\n",
              "        text-align: right;\n",
              "    }\n",
              "</style>\n",
              "<table border=\"1\" class=\"dataframe\">\n",
              "  <thead>\n",
              "    <tr style=\"text-align: right;\">\n",
              "      <th></th>\n",
              "      <th>Customer ID</th>\n",
              "      <th>Purchase Date</th>\n",
              "      <th>Product Price</th>\n",
              "      <th>Total Purchase Amount</th>\n",
              "      <th>Customer Age</th>\n",
              "      <th>Age</th>\n",
              "    </tr>\n",
              "  </thead>\n",
              "  <tbody>\n",
              "    <tr>\n",
              "      <th>0</th>\n",
              "      <td>46251</td>\n",
              "      <td>2020-09-08 09:38:32</td>\n",
              "      <td>12</td>\n",
              "      <td>740</td>\n",
              "      <td>37</td>\n",
              "      <td>37</td>\n",
              "    </tr>\n",
              "    <tr>\n",
              "      <th>1</th>\n",
              "      <td>46251</td>\n",
              "      <td>2022-03-05 12:56:35</td>\n",
              "      <td>468</td>\n",
              "      <td>2739</td>\n",
              "      <td>37</td>\n",
              "      <td>37</td>\n",
              "    </tr>\n",
              "    <tr>\n",
              "      <th>2</th>\n",
              "      <td>46251</td>\n",
              "      <td>2022-05-23 18:18:01</td>\n",
              "      <td>288</td>\n",
              "      <td>3196</td>\n",
              "      <td>37</td>\n",
              "      <td>37</td>\n",
              "    </tr>\n",
              "    <tr>\n",
              "      <th>3</th>\n",
              "      <td>46251</td>\n",
              "      <td>2020-11-12 13:13:29</td>\n",
              "      <td>196</td>\n",
              "      <td>3509</td>\n",
              "      <td>37</td>\n",
              "      <td>37</td>\n",
              "    </tr>\n",
              "    <tr>\n",
              "      <th>4</th>\n",
              "      <td>13593</td>\n",
              "      <td>2020-11-27 17:55:11</td>\n",
              "      <td>449</td>\n",
              "      <td>3452</td>\n",
              "      <td>49</td>\n",
              "      <td>49</td>\n",
              "    </tr>\n",
              "  </tbody>\n",
              "</table>\n",
              "</div>"
            ],
            "text/plain": [
              "   Customer ID        Purchase Date  Product Price  Total Purchase Amount  \\\n",
              "0        46251  2020-09-08 09:38:32             12                    740   \n",
              "1        46251  2022-03-05 12:56:35            468                   2739   \n",
              "2        46251  2022-05-23 18:18:01            288                   3196   \n",
              "3        46251  2020-11-12 13:13:29            196                   3509   \n",
              "4        13593  2020-11-27 17:55:11            449                   3452   \n",
              "\n",
              "   Customer Age  Age  \n",
              "0            37   37  \n",
              "1            37   37  \n",
              "2            37   37  \n",
              "3            37   37  \n",
              "4            49   49  "
            ]
          },
          "execution_count": 17,
          "metadata": {},
          "output_type": "execute_result"
        }
      ],
      "source": [
        "# Variáveis contínuas\n",
        "\n",
        "df[continuous].head()"
      ]
    },
    {
      "cell_type": "code",
      "execution_count": 18,
      "metadata": {
        "colab": {
          "base_uri": "https://localhost:8080/",
          "height": 206
        },
        "id": "IqI1_AuH7GjM",
        "outputId": "584a94da-867e-49bb-e228-cb06a5de6ff7"
      },
      "outputs": [
        {
          "data": {
            "text/html": [
              "<div>\n",
              "<style scoped>\n",
              "    .dataframe tbody tr th:only-of-type {\n",
              "        vertical-align: middle;\n",
              "    }\n",
              "\n",
              "    .dataframe tbody tr th {\n",
              "        vertical-align: top;\n",
              "    }\n",
              "\n",
              "    .dataframe thead th {\n",
              "        text-align: right;\n",
              "    }\n",
              "</style>\n",
              "<table border=\"1\" class=\"dataframe\">\n",
              "  <thead>\n",
              "    <tr style=\"text-align: right;\">\n",
              "      <th></th>\n",
              "      <th>Product Category</th>\n",
              "      <th>Quantity</th>\n",
              "      <th>Payment Method</th>\n",
              "      <th>Returns</th>\n",
              "      <th>Customer Name</th>\n",
              "      <th>Gender</th>\n",
              "      <th>Churn</th>\n",
              "    </tr>\n",
              "  </thead>\n",
              "  <tbody>\n",
              "    <tr>\n",
              "      <th>0</th>\n",
              "      <td>Electronics</td>\n",
              "      <td>3</td>\n",
              "      <td>Credit Card</td>\n",
              "      <td>0</td>\n",
              "      <td>Christine Hernandez</td>\n",
              "      <td>Male</td>\n",
              "      <td>0</td>\n",
              "    </tr>\n",
              "    <tr>\n",
              "      <th>1</th>\n",
              "      <td>Home</td>\n",
              "      <td>4</td>\n",
              "      <td>PayPal</td>\n",
              "      <td>0</td>\n",
              "      <td>Christine Hernandez</td>\n",
              "      <td>Male</td>\n",
              "      <td>0</td>\n",
              "    </tr>\n",
              "    <tr>\n",
              "      <th>2</th>\n",
              "      <td>Home</td>\n",
              "      <td>2</td>\n",
              "      <td>PayPal</td>\n",
              "      <td>0</td>\n",
              "      <td>Christine Hernandez</td>\n",
              "      <td>Male</td>\n",
              "      <td>0</td>\n",
              "    </tr>\n",
              "    <tr>\n",
              "      <th>3</th>\n",
              "      <td>Clothing</td>\n",
              "      <td>1</td>\n",
              "      <td>PayPal</td>\n",
              "      <td>0</td>\n",
              "      <td>Christine Hernandez</td>\n",
              "      <td>Male</td>\n",
              "      <td>0</td>\n",
              "    </tr>\n",
              "    <tr>\n",
              "      <th>4</th>\n",
              "      <td>Home</td>\n",
              "      <td>1</td>\n",
              "      <td>Credit Card</td>\n",
              "      <td>0</td>\n",
              "      <td>James Grant</td>\n",
              "      <td>Female</td>\n",
              "      <td>1</td>\n",
              "    </tr>\n",
              "  </tbody>\n",
              "</table>\n",
              "</div>"
            ],
            "text/plain": [
              "  Product Category  Quantity Payment Method  Returns        Customer Name  \\\n",
              "0      Electronics         3    Credit Card        0  Christine Hernandez   \n",
              "1             Home         4         PayPal        0  Christine Hernandez   \n",
              "2             Home         2         PayPal        0  Christine Hernandez   \n",
              "3         Clothing         1         PayPal        0  Christine Hernandez   \n",
              "4             Home         1    Credit Card        0          James Grant   \n",
              "\n",
              "   Gender  Churn  \n",
              "0    Male      0  \n",
              "1    Male      0  \n",
              "2    Male      0  \n",
              "3    Male      0  \n",
              "4  Female      1  "
            ]
          },
          "execution_count": 18,
          "metadata": {},
          "output_type": "execute_result"
        }
      ],
      "source": [
        "# Variáveis categóricas\n",
        "df[categorical].head()"
      ]
    },
    {
      "cell_type": "code",
      "execution_count": 19,
      "metadata": {
        "colab": {
          "base_uri": "https://localhost:8080/",
          "height": 807
        },
        "id": "wrNjW78e7WlK",
        "outputId": "eaf42809-8380-48ae-8813-de97ad0ae9d9"
      },
      "outputs": [
        {
          "name": "stdout",
          "output_type": "stream",
          "text": [
            "         Customer ID  Product Price       Quantity  Total Purchase Amount  \\\n",
            "count  202404.000000  202404.000000  202404.000000          202404.000000   \n",
            "mean    25013.981962     254.377423       2.999269            2725.130813   \n",
            "std     14412.553209     141.565500       1.414437            1441.540074   \n",
            "min         1.000000      10.000000       1.000000             101.000000   \n",
            "25%     12546.750000     132.000000       2.000000            1479.000000   \n",
            "50%     25018.500000     254.000000       3.000000            2725.500000   \n",
            "75%     37511.000000     377.000000       4.000000            3970.250000   \n",
            "max     50000.000000     500.000000       5.000000            5350.000000   \n",
            "\n",
            "        Customer Age        Returns            Age          Churn  \n",
            "count  202404.000000  202404.000000  202404.000000  202404.000000  \n",
            "mean       43.926498       0.497861      43.926498       0.199423  \n",
            "std        15.354491       0.499997      15.354491       0.399568  \n",
            "min        18.000000       0.000000      18.000000       0.000000  \n",
            "25%        31.000000       0.000000      31.000000       0.000000  \n",
            "50%        44.000000       0.000000      44.000000       0.000000  \n",
            "75%        57.000000       1.000000      57.000000       0.000000  \n",
            "max        70.000000       1.000000      70.000000       1.000000  \n"
          ]
        },
        {
          "data": {
            "image/png": "[encoded data removed]",
            "text/plain": [
              "<Figure size 800x800 with 8 Axes>"
            ]
          },
          "metadata": {},
          "output_type": "display_data"
        }
      ],
      "source": [
        "# Plot das variáveis contínuas\n",
        "\n",
        "# Tamanho da área de plotagem\n",
        "fig = plt.figure(figsize = (8,8))\n",
        "\n",
        "continuous = ['Customer ID', 'Product Price', 'Quantity', 'Total Purchase Amount', 'Customer Age', 'Returns', 'Age', 'Churn']\n",
        "\n",
        "\n",
        "# Loop pelas variáveis contínuas\n",
        "for i, col in enumerate(continuous):\n",
        "  plt.subplot (3, 3, i + 1);\n",
        "  df.boxplot(col);\n",
        "  plt.tight_layout()\n",
        "\n",
        "# Salvar a Imagem do Boxplot\n",
        "plt.savefig('boxplot1.png')\n",
        "\n",
        "descriptive_stats = df[continuous].describe()\n",
        "print(descriptive_stats)\n"
      ]
    },
    {
      "cell_type": "markdown",
      "metadata": {},
      "source": [
        "Com os resultados do Boxplot podemos avaliar algumas coisas:\n",
        "\n",
        "Perfil do Cliente:\n",
        "\n",
        "* Faixa etária predominante: 31 a 57 anos, com média de 43 anos.\n",
        "* Público-alvo: mais maduro.\n",
        "\n",
        "Preços dos Produtos:\n",
        "\n",
        "* Média de preço: 254.\n",
        "* Variedade de produtos: de baixo custo a itens caros.\n",
        "\n",
        "Comportamento de Compra:\n",
        "\n",
        "* Média de unidades por compra: 3.\n",
        "* Variação significativa nos valores de compra, indicando diferentes padrões de consumo.\n",
        "\n",
        "Devoluções:\n",
        "\n",
        "* Metade das transações resultam em devoluções, sugerindo uma política de devolução bastante utilizada.\n",
        "\n",
        "Churn:\n",
        "\n",
        "* Taxa de cancelamento: 20%, indicando que 1 em cada 5 clientes cancela, um ponto crítico para retenção.\n",
        "\n",
        "Conclusões:\n",
        "\n",
        "Perfil do Cliente: Adultos de meia-idade com comportamento de compra diversificado.\n",
        "\n",
        "Desafios e Oportunidades: Alta taxa de devoluções e cancelamentos, áreas para melhorias em políticas de devolução e estratégias de retenção de clientes.\n",
        "\n",
        "Estratégias de Negócio:Reduzir razões para devoluções e cancelamentos.\n",
        "Personalizar ofertas para diferentes segmentos etários e comportamentais para aumentar satisfação e fidelidade."
      ]
    },
    {
      "cell_type": "markdown",
      "metadata": {
        "id": "DOfIcgDG-gGH"
      },
      "source": [
        "### Matriz de correlação entre variáveis contínuas."
      ]
    },
    {
      "cell_type": "code",
      "execution_count": 20,
      "metadata": {
        "colab": {
          "base_uri": "https://localhost:8080/",
          "height": 906
        },
        "id": "BJvh5bxs-ddh",
        "outputId": "9f9140ff-1c13-44bb-de1b-92c8c1654952"
      },
      "outputs": [
        {
          "data": {
            "image/png": "[encoded data removed]",
            "text/plain": [
              "<Figure size 1000x1000 with 2 Axes>"
            ]
          },
          "metadata": {},
          "output_type": "display_data"
        },
        {
          "data": {
            "text/plain": [
              "<Figure size 640x480 with 0 Axes>"
            ]
          },
          "metadata": {},
          "output_type": "display_data"
        }
      ],
      "source": [
        "# Área de plotagem\n",
        "plt.figure(figsize=(10, 10))\n",
        "\n",
        "# Matriz de Correlação\n",
        "sns.heatmap(df[['Customer ID',\n",
        "                'Product Price',\n",
        "                'Total Purchase Amount',\n",
        "                'Customer Age',\n",
        "                'Age']].corr(), vmax=1., square=True)\n",
        "plt.show()\n",
        "\n",
        "# Salvar a Imagem do Boxplot\n",
        "plt.savefig('Matriz de Correlação.png')\n",
        "\n"
      ]
    },
    {
      "cell_type": "markdown",
      "metadata": {
        "id": "1AkdSZYtwvjR"
      },
      "source": [
        "### Após analisarmos a matriz de correlação é possível identificar\n",
        "\n",
        "* Customer ID: Não mostra correlação significativa com outras variáveis.\n",
        "* Product Price: Não está linearmente relacionado com outras variáveis.\n",
        "* Total Purchase Amount: Tem uma correlação fraca e positiva com Customer Age e Age (0.063), sugerindo que clientes ligeiramente mais velhos podem gastar um pouco mais.\n",
        "* Customer Age e Age: São idênticas (correlação perfeita de 1.000), indicando que uma dessas colunas é redundante.\n",
        "\n",
        "Conclusões:\n",
        "Não há fortes relações lineares entre a maioria das variáveis analisadas a única exceção é a duplicação de Customer Age e Age e As variáveis analisadas podem ser consideradas independentes entre si, exceto pela redundância mencionada."
      ]
    },
    {
      "cell_type": "code",
      "execution_count": 21,
      "metadata": {},
      "outputs": [],
      "source": [
        "#Remoção da Coluna Redundante e Colunas Sem Uso\n",
        "df = df.drop(columns='Customer Age')\n",
        "df = df.drop(columns='Customer ID')\n",
        "df = df.drop(columns='Customer Name')\n"
      ]
    },
    {
      "cell_type": "code",
      "execution_count": 22,
      "metadata": {},
      "outputs": [
        {
          "data": {
            "text/plain": [
              "(202404, 10)"
            ]
          },
          "execution_count": 22,
          "metadata": {},
          "output_type": "execute_result"
        }
      ],
      "source": [
        "# Shape dos dados\n",
        "df.shape"
      ]
    },
    {
      "cell_type": "code",
      "execution_count": 23,
      "metadata": {},
      "outputs": [
        {
          "data": {
            "text/html": [
              "<div>\n",
              "<style scoped>\n",
              "    .dataframe tbody tr th:only-of-type {\n",
              "        vertical-align: middle;\n",
              "    }\n",
              "\n",
              "    .dataframe tbody tr th {\n",
              "        vertical-align: top;\n",
              "    }\n",
              "\n",
              "    .dataframe thead th {\n",
              "        text-align: right;\n",
              "    }\n",
              "</style>\n",
              "<table border=\"1\" class=\"dataframe\">\n",
              "  <thead>\n",
              "    <tr style=\"text-align: right;\">\n",
              "      <th></th>\n",
              "      <th>Purchase Date</th>\n",
              "      <th>Product Category</th>\n",
              "      <th>Product Price</th>\n",
              "      <th>Quantity</th>\n",
              "      <th>Total Purchase Amount</th>\n",
              "      <th>Payment Method</th>\n",
              "      <th>Returns</th>\n",
              "      <th>Age</th>\n",
              "      <th>Gender</th>\n",
              "      <th>Churn</th>\n",
              "    </tr>\n",
              "  </thead>\n",
              "  <tbody>\n",
              "    <tr>\n",
              "      <th>0</th>\n",
              "      <td>2020-09-08 09:38:32</td>\n",
              "      <td>Electronics</td>\n",
              "      <td>12</td>\n",
              "      <td>3</td>\n",
              "      <td>740</td>\n",
              "      <td>Credit Card</td>\n",
              "      <td>0</td>\n",
              "      <td>37</td>\n",
              "      <td>Male</td>\n",
              "      <td>0</td>\n",
              "    </tr>\n",
              "    <tr>\n",
              "      <th>1</th>\n",
              "      <td>2022-03-05 12:56:35</td>\n",
              "      <td>Home</td>\n",
              "      <td>468</td>\n",
              "      <td>4</td>\n",
              "      <td>2739</td>\n",
              "      <td>PayPal</td>\n",
              "      <td>0</td>\n",
              "      <td>37</td>\n",
              "      <td>Male</td>\n",
              "      <td>0</td>\n",
              "    </tr>\n",
              "    <tr>\n",
              "      <th>2</th>\n",
              "      <td>2022-05-23 18:18:01</td>\n",
              "      <td>Home</td>\n",
              "      <td>288</td>\n",
              "      <td>2</td>\n",
              "      <td>3196</td>\n",
              "      <td>PayPal</td>\n",
              "      <td>0</td>\n",
              "      <td>37</td>\n",
              "      <td>Male</td>\n",
              "      <td>0</td>\n",
              "    </tr>\n",
              "    <tr>\n",
              "      <th>3</th>\n",
              "      <td>2020-11-12 13:13:29</td>\n",
              "      <td>Clothing</td>\n",
              "      <td>196</td>\n",
              "      <td>1</td>\n",
              "      <td>3509</td>\n",
              "      <td>PayPal</td>\n",
              "      <td>0</td>\n",
              "      <td>37</td>\n",
              "      <td>Male</td>\n",
              "      <td>0</td>\n",
              "    </tr>\n",
              "    <tr>\n",
              "      <th>4</th>\n",
              "      <td>2020-11-27 17:55:11</td>\n",
              "      <td>Home</td>\n",
              "      <td>449</td>\n",
              "      <td>1</td>\n",
              "      <td>3452</td>\n",
              "      <td>Credit Card</td>\n",
              "      <td>0</td>\n",
              "      <td>49</td>\n",
              "      <td>Female</td>\n",
              "      <td>1</td>\n",
              "    </tr>\n",
              "    <tr>\n",
              "      <th>5</th>\n",
              "      <td>2023-03-07 14:17:42</td>\n",
              "      <td>Home</td>\n",
              "      <td>250</td>\n",
              "      <td>4</td>\n",
              "      <td>575</td>\n",
              "      <td>PayPal</td>\n",
              "      <td>1</td>\n",
              "      <td>49</td>\n",
              "      <td>Female</td>\n",
              "      <td>1</td>\n",
              "    </tr>\n",
              "    <tr>\n",
              "      <th>6</th>\n",
              "      <td>2023-04-15 03:02:33</td>\n",
              "      <td>Electronics</td>\n",
              "      <td>73</td>\n",
              "      <td>1</td>\n",
              "      <td>1896</td>\n",
              "      <td>Credit Card</td>\n",
              "      <td>0</td>\n",
              "      <td>49</td>\n",
              "      <td>Female</td>\n",
              "      <td>1</td>\n",
              "    </tr>\n",
              "    <tr>\n",
              "      <th>7</th>\n",
              "      <td>2021-03-27 21:23:28</td>\n",
              "      <td>Books</td>\n",
              "      <td>337</td>\n",
              "      <td>2</td>\n",
              "      <td>2937</td>\n",
              "      <td>Cash</td>\n",
              "      <td>0</td>\n",
              "      <td>49</td>\n",
              "      <td>Female</td>\n",
              "      <td>1</td>\n",
              "    </tr>\n",
              "    <tr>\n",
              "      <th>8</th>\n",
              "      <td>2020-05-05 20:14:00</td>\n",
              "      <td>Clothing</td>\n",
              "      <td>182</td>\n",
              "      <td>2</td>\n",
              "      <td>3363</td>\n",
              "      <td>PayPal</td>\n",
              "      <td>1</td>\n",
              "      <td>49</td>\n",
              "      <td>Female</td>\n",
              "      <td>1</td>\n",
              "    </tr>\n",
              "    <tr>\n",
              "      <th>9</th>\n",
              "      <td>2023-09-13 04:24:00</td>\n",
              "      <td>Electronics</td>\n",
              "      <td>394</td>\n",
              "      <td>2</td>\n",
              "      <td>1993</td>\n",
              "      <td>Credit Card</td>\n",
              "      <td>0</td>\n",
              "      <td>19</td>\n",
              "      <td>Male</td>\n",
              "      <td>0</td>\n",
              "    </tr>\n",
              "  </tbody>\n",
              "</table>\n",
              "</div>"
            ],
            "text/plain": [
              "         Purchase Date Product Category  Product Price  Quantity  \\\n",
              "0  2020-09-08 09:38:32      Electronics             12         3   \n",
              "1  2022-03-05 12:56:35             Home            468         4   \n",
              "2  2022-05-23 18:18:01             Home            288         2   \n",
              "3  2020-11-12 13:13:29         Clothing            196         1   \n",
              "4  2020-11-27 17:55:11             Home            449         1   \n",
              "5  2023-03-07 14:17:42             Home            250         4   \n",
              "6  2023-04-15 03:02:33      Electronics             73         1   \n",
              "7  2021-03-27 21:23:28            Books            337         2   \n",
              "8  2020-05-05 20:14:00         Clothing            182         2   \n",
              "9  2023-09-13 04:24:00      Electronics            394         2   \n",
              "\n",
              "   Total Purchase Amount Payment Method  Returns  Age  Gender  Churn  \n",
              "0                    740    Credit Card        0   37    Male      0  \n",
              "1                   2739         PayPal        0   37    Male      0  \n",
              "2                   3196         PayPal        0   37    Male      0  \n",
              "3                   3509         PayPal        0   37    Male      0  \n",
              "4                   3452    Credit Card        0   49  Female      1  \n",
              "5                    575         PayPal        1   49  Female      1  \n",
              "6                   1896    Credit Card        0   49  Female      1  \n",
              "7                   2937           Cash        0   49  Female      1  \n",
              "8                   3363         PayPal        1   49  Female      1  \n",
              "9                   1993    Credit Card        0   19    Male      0  "
            ]
          },
          "execution_count": 23,
          "metadata": {},
          "output_type": "execute_result"
        }
      ],
      "source": [
        "# Visualizando as primeiras linhas do DataFrame \n",
        "df.head(10)"
      ]
    },
    {
      "cell_type": "code",
      "execution_count": 24,
      "metadata": {},
      "outputs": [
        {
          "data": {
            "text/plain": [
              "Purchase Date            object\n",
              "Product Category         object\n",
              "Product Price             int64\n",
              "Quantity                  int64\n",
              "Total Purchase Amount     int64\n",
              "Payment Method           object\n",
              "Returns                   int32\n",
              "Age                       int64\n",
              "Gender                   object\n",
              "Churn                     int32\n",
              "dtype: object"
            ]
          },
          "execution_count": 24,
          "metadata": {},
          "output_type": "execute_result"
        }
      ],
      "source": [
        "df.dtypes"
      ]
    },
    {
      "cell_type": "markdown",
      "metadata": {
        "id": "fJgDtYFxuutn"
      },
      "source": [
        "### Visualização de gráficos de variáveis categóricas para analisar como a variável de destino é influenciada por elas."
      ]
    },
    {
      "cell_type": "code",
      "execution_count": 25,
      "metadata": {
        "colab": {
          "base_uri": "https://localhost:8080/",
          "height": 573
        },
        "id": "97okLyD0_n_R",
        "outputId": "b441042e-2c0e-4fbc-cfc2-02e2d5b17a46"
      },
      "outputs": [
        {
          "data": {
            "image/png": "[encoded data removed]",
            "text/plain": [
              "<Figure size 1000x600 with 1 Axes>"
            ]
          },
          "metadata": {},
          "output_type": "display_data"
        }
      ],
      "source": [
        "# Definindo o estilo do seaborn\n",
        "sns.set(style=\"whitegrid\")\n",
        "\n",
        "# Plotando o gráfico de contagem para a coluna \"Product Category\"\n",
        "plt.figure(figsize=(10, 6))\n",
        "plt.title(\"Contagem de Produtos por Categoria\")\n",
        "grafico = sns.countplot(y=\"Product Category\", data=dados_vendas, hue=\"Product Category\", order=dados_vendas['Product Category'].value_counts().index, palette='husl', legend=False)\n",
        "plt.xlabel(\"Contagem\")\n",
        "plt.ylabel(\"Categoria do Produto\")\n",
        "\n",
        "# Adicionando a Numeração de cada barra\n",
        "for p in grafico.patches:\n",
        "    grafico.annotate(format(p.get_width(), '.0f'),\n",
        "                     (p.get_width(), p.get_y() + p.get_height() / 2),\n",
        "                     ha = 'center', va = 'center',\n",
        "                     xytext = (15, 0),\n",
        "                     textcoords = 'offset points')\n",
        "\n",
        "plt.show()\n",
        "\n"
      ]
    },
    {
      "cell_type": "markdown",
      "metadata": {
        "id": "zEijBySWx9i1"
      },
      "source": [
        "### Temos acima uma contagem dos produtos separados por categoria para avaliarmos quais as categorias se saem melhores em termos de vendas.\n",
        "\n",
        "É possível ver que a categoria de 'Clothing'(Roupas) é a mais vendida tendo 75052 vendas com uma pequena diferença da categoria 'Books'(Livros) que obteve o segundo lugar com 74912 vendas, Entretanto do segundo lugar para o terceiro a categoria 'Eletronics'(Eletrônicos) notamos uma diminuição de aproximadamente 33,01%."
      ]
    },
    {
      "cell_type": "code",
      "execution_count": 26,
      "metadata": {
        "colab": {
          "base_uri": "https://localhost:8080/",
          "height": 573
        },
        "id": "V-WwsZNpBm20",
        "outputId": "7da243b8-a206-4197-a3fa-a8e264302110"
      },
      "outputs": [
        {
          "data": {
            "image/png": "[encoded data removed]",
            "text/plain": [
              "<Figure size 800x600 with 1 Axes>"
            ]
          },
          "metadata": {},
          "output_type": "display_data"
        }
      ],
      "source": [
        "# Definindo o estilo do seaborn\n",
        "sns.set(style=\"whitegrid\")\n",
        "\n",
        "# Plotando o gráfico de contagem para a coluna \"Payment Method\" \n",
        "plt.figure(figsize=(8, 6))\n",
        "plt.title(\"Contagem de Métodos de Pagamento\")\n",
        "grafico = sns.countplot(y=\"Payment Method\", data=dados_vendas, hue=\"Payment Method\", palette='husl', legend=False)\n",
        "plt.xlabel(\"Contagem\")\n",
        "plt.ylabel(\"Método de Pagamento\")\n",
        "\n",
        "# Adicionando a numeração em cada barra\n",
        "for p in grafico.patches:\n",
        "    grafico.annotate(format(p.get_width(), '.0f'),\n",
        "                     (p.get_width(), p.get_y() + p.get_height() / 2),\n",
        "                     ha='center', va='center',\n",
        "                     xytext=(15, 0),\n",
        "                     textcoords='offset points')\n",
        "\n",
        "plt.show()\n"
      ]
    },
    {
      "cell_type": "markdown",
      "metadata": {
        "id": "ylP3bWVnzp-6"
      },
      "source": [
        "### Agora como mostrado no gráfico acima avaliaremos as vendas separadas por métodos de pagamento\n",
        "\n",
        "Na primeira posição vemos o 'credit_card'(cartão de crédito) com uma diferença de 25,53% em cima da categoria seguinte 'Paypal'(ferramenta que oferece as opções de envio e recebimento de pagamentos)."
      ]
    },
    {
      "cell_type": "markdown",
      "metadata": {
        "id": "uxMBY0l9NY7C"
      },
      "source": [
        "### Iremos agora fazer um paralelo entre as variáveis 'Payment Method' e 'Product Category'"
      ]
    },
    {
      "cell_type": "code",
      "execution_count": 27,
      "metadata": {
        "colab": {
          "base_uri": "https://localhost:8080/",
          "height": 631
        },
        "id": "VJTYvrUrCCAJ",
        "outputId": "253df6b9-696e-409d-f34a-5fc082f3048c"
      },
      "outputs": [
        {
          "data": {
            "image/png": "[encoded data removed]",
            "text/plain": [
              "<Figure size 1500x600 with 1 Axes>"
            ]
          },
          "metadata": {},
          "output_type": "display_data"
        }
      ],
      "source": [
        "# Calculando a tabela cruzada entre 'Payment Method' e 'Product Category'\n",
        "crosstab_result = pd.crosstab(df['Payment Method'], df['Product Category'])\n",
        "\n",
        "# Plotando o gráfico de barras empilhadas\n",
        "crosstab_result.plot(kind='bar', stacked=True, figsize=(15, 6))\n",
        "plt.title('Contagem de Métodos de Pagamento por Categoria de Produto')\n",
        "plt.xlabel('Método de Pagamento')\n",
        "plt.ylabel('Contagem')\n",
        "plt.xticks(rotation=45) \n",
        "plt.show()\n"
      ]
    },
    {
      "cell_type": "markdown",
      "metadata": {
        "id": "bFAeP43BOPwy"
      },
      "source": [
        "Acima podemos ter uma visão bem clara que até mesmo separando por categorias o método de poagamento Credit Card é sempre dominante, possivelmente devido à conveniência e ao amplo uso de cartões de crédito. Crypto é o método menos preferido, sugerindo que a aceitação ou a adoção de criptomoedas ainda é baixa entre os clientes. PayPal é um método bastante popular, indicando uma confiança significativa dos consumidores neste método de pagamento. Cash tem uma presença menor, mas ainda significativa, especialmente para Books e Clothing"
      ]
    },
    {
      "cell_type": "markdown",
      "metadata": {
        "id": "kEx595f-OyPN"
      },
      "source": [
        "### Para entendimento ainda mais aprofundado iremos analisar a coluna 'Gender\" para entender se há um gênero dominante nas compras."
      ]
    },
    {
      "cell_type": "code",
      "execution_count": 28,
      "metadata": {
        "colab": {
          "base_uri": "https://localhost:8080/",
          "height": 419
        },
        "id": "jdbaMWoaBTBd",
        "outputId": "afe82b9c-c147-455f-9a8f-e60476d3cbd9"
      },
      "outputs": [
        {
          "data": {
            "image/png": "[encoded data removed]",
            "text/plain": [
              "<Figure size 600x400 with 1 Axes>"
            ]
          },
          "metadata": {},
          "output_type": "display_data"
        }
      ],
      "source": [
        "# Definindo o estilo do seaborn\n",
        "sns.set(style=\"whitegrid\")\n",
        "\n",
        "# Plotando o gráfico de contagem para a coluna \"Gender\"\n",
        "plt.figure(figsize=(6, 4))\n",
        "plt.title(\"Contagem de Clientes por Gênero\")\n",
        "grafico = sns.countplot(y=\"Gender\", data=dados_vendas, hue=\"Gender\", palette='husl', legend=False)\n",
        "plt.xlabel(\"Contagem\")\n",
        "plt.ylabel(\"Gênero\")\n",
        "\n",
        "# Adicionando a numeração em cada barra\n",
        "for p in grafico.patches:\n",
        "    grafico.annotate(format(p.get_width(), '.0f'),\n",
        "                     (p.get_width(), p.get_y() + p.get_height() / 2),\n",
        "                     ha = 'center', va = 'center',\n",
        "                     xytext = (15, 0),\n",
        "                     textcoords = 'offset points')\n",
        "\n",
        "plt.show()\n",
        "\n"
      ]
    },
    {
      "cell_type": "markdown",
      "metadata": {
        "id": "Dm5UdNULPMSl"
      },
      "source": [
        "Com os resultados do gráfico podemos perceber que a diferença entre o gênero não é muito impactante detendo somente 0,892% a mais para o gênero 'female\"(feminino).\n"
      ]
    },
    {
      "cell_type": "markdown",
      "metadata": {
        "id": "YIER59GTPsp3"
      },
      "source": [
        "Faremos então um Paralelo entre as variáveis 'Gender' e 'Product Category' para verificar se há algum tipo de dominância em alguma das categorias."
      ]
    },
    {
      "cell_type": "code",
      "execution_count": 29,
      "metadata": {
        "colab": {
          "base_uri": "https://localhost:8080/",
          "height": 648
        },
        "id": "KvZwOQ6aCcIt",
        "outputId": "492105b3-90da-4d87-b56a-60f9dc6007ee"
      },
      "outputs": [
        {
          "data": {
            "image/png": "[encoded data removed]",
            "text/plain": [
              "<Figure size 1500x600 with 1 Axes>"
            ]
          },
          "metadata": {},
          "output_type": "display_data"
        }
      ],
      "source": [
        "# Calculando a tabela cruzada entre 'Product Category' e 'Gender'\n",
        "crosstab_result = pd.crosstab(df['Product Category'], df['Gender'])\n",
        "\n",
        "# Plotando o gráfico de barras empilhadas\n",
        "crosstab_result.plot(kind='bar', stacked=True, figsize=(15, 6))\n",
        "plt.title('Contagem de Categoria de Produto por Gênero')\n",
        "plt.xlabel('Categoria de Produto')\n",
        "plt.ylabel('Contagem')\n",
        "plt.xticks(rotation=45)  \n",
        "plt.show()\n",
        "\n",
        "\n"
      ]
    },
    {
      "cell_type": "markdown",
      "metadata": {
        "id": "He2z9rLqQef6"
      },
      "source": [
        "De acordo com os resultados do Gráfico acima podemos chegar a conclusão de que não há uma preferência clara de gênero em relação às compras em diferentes categorias de produtos e Os resultados sugerem que os produtos oferecidos são igualmente atrativos para homens e mulheres."
      ]
    },
    {
      "cell_type": "markdown",
      "metadata": {
        "id": "OSyjqNvrRC8o"
      },
      "source": [
        "### Vamos análisar a coluna 'Returns'"
      ]
    },
    {
      "cell_type": "code",
      "execution_count": 30,
      "metadata": {
        "colab": {
          "base_uri": "https://localhost:8080/",
          "height": 506
        },
        "id": "qTKb3pFWDo5R",
        "outputId": "a970cd05-4773-406c-868f-38874e51e35b"
      },
      "outputs": [
        {
          "data": {
            "image/png": "[encoded data removed]",
            "text/plain": [
              "<Figure size 600x400 with 1 Axes>"
            ]
          },
          "metadata": {},
          "output_type": "display_data"
        },
        {
          "name": "stdout",
          "output_type": "stream",
          "text": [
            "Contagem de Retornos:\n",
            "Returns\n",
            "0    101635\n",
            "1    100769\n",
            "Name: count, dtype: int64\n"
          ]
        }
      ],
      "source": [
        "# Definindo o estilo do seaborn\n",
        "sns.set(style=\"whitegrid\")\n",
        "\n",
        "# Plotando o gráfico de contagem para a coluna \"Returns\"\n",
        "plt.figure(figsize=(6, 4))\n",
        "plt.title(\"Contagem de Retornos\")\n",
        "sns.countplot(x=\"Returns\", hue=\"Returns\", data=dados_vendas, palette=\"Set2\", legend=False)\n",
        "plt.xlabel(\"Retorno\")\n",
        "plt.ylabel(\"Contagem\")\n",
        "plt.show()\n",
        "\n",
        "return_counts = dados_vendas['Returns'].value_counts()\n",
        "print(\"Contagem de Retornos:\")\n",
        "print(return_counts)"
      ]
    },
    {
      "cell_type": "markdown",
      "metadata": {
        "id": "ADu39KVGRMV-"
      },
      "source": [
        "Com Base nos resultados verificamos:\n",
        "\n",
        "* Equilíbrio nas Compras com e sem Retorno:\n",
        "\n",
        "A diferença entre o número de compras com e sem retorno é relativamente pequena, sugerindo um equilíbrio nas experiências de compra dos clientes e também O fato de que o número de compras sem retorno é ligeiramente maior do que com retorno pode indicar uma boa satisfação do cliente ou uma política de devolução eficaz.\n",
        "\n",
        "* Potencial para Melhoria:\n",
        "\n",
        "Embora o equilíbrio sugira uma experiência de compra geralmente positiva, a presença de retornos ainda indica áreas onde os clientes podem não estar totalmente satisfeitos, também é preciso analisar os motivos dos retornos e implementar medidas para melhorar a qualidade dos produtos, o processo de entrega ou o atendimento ao cliente pode ajudar a reduzir o número de devoluções e aprimorar a experiência geral do cliente.\n",
        "\n",
        "* Monitoramento Contínuo:\n",
        "\n",
        "É importante continuar monitorando e analisando os padrões de retorno ao longo do tempo para identificar tendências e ajustar estratégias conforme necessário, além de manter um equilíbrio saudável entre compras com e sem retorno é crucial para garantir a satisfação do cliente e o sucesso geral do negócio.\n",
        "\n"
      ]
    },
    {
      "cell_type": "markdown",
      "metadata": {
        "id": "i0RmR-DDR2ml"
      },
      "source": [
        "### Agora teremos um paralelo entre as colunas 'Returns' e 'Product Category'"
      ]
    },
    {
      "cell_type": "code",
      "execution_count": 31,
      "metadata": {
        "colab": {
          "base_uri": "https://localhost:8080/",
          "height": 559
        },
        "id": "EYOAqPU8EfpK",
        "outputId": "d7c363e5-0ad6-427c-f0c5-8c255caa5066"
      },
      "outputs": [
        {
          "data": {
            "image/png": "[encoded data removed]",
            "text/plain": [
              "<Figure size 1500x600 with 1 Axes>"
            ]
          },
          "metadata": {},
          "output_type": "display_data"
        }
      ],
      "source": [
        "# Calculando a tabela cruzada entre 'Returns' e 'Product Category'\n",
        "crosstab_result = pd.crosstab(df['Returns'], df['Product Category'])\n",
        "\n",
        "# Plotando o gráfico de barras empilhadas\n",
        "crosstab_result.plot(kind='bar', stacked=True, figsize=(15, 6), color=['red', 'green', 'blue', 'orange'])\n",
        "plt.title('Relação entre Returns e Product Category')\n",
        "plt.xlabel('Returns')\n",
        "plt.ylabel('Contagem')\n",
        "plt.xticks(rotation=0)\n",
        "plt.legend(title='Product Category', bbox_to_anchor=(1.05, 1), loc='upper left')\n",
        "plt.show()\n"
      ]
    },
    {
      "cell_type": "markdown",
      "metadata": {
        "id": "tHUfJ9_mTkT-"
      },
      "source": [
        "Com os resultados do gráfico acima é possível avaliar que não já diferenças significativas entre as categorias de produtos para explicar de uma melhor forma se há preferência por devolução de algo específico."
      ]
    },
    {
      "cell_type": "markdown",
      "metadata": {},
      "source": [
        "### Vamos análisar a coluna 'Churn'"
      ]
    },
    {
      "cell_type": "code",
      "execution_count": 32,
      "metadata": {},
      "outputs": [
        {
          "data": {
            "image/png": "[encoded data removed]",
            "text/plain": [
              "<Figure size 600x400 with 1 Axes>"
            ]
          },
          "metadata": {},
          "output_type": "display_data"
        },
        {
          "name": "stdout",
          "output_type": "stream",
          "text": [
            "Contagem de Cancelamentos (Churn):\n",
            "Churn\n",
            "0    162040\n",
            "1     40364\n",
            "Name: count, dtype: int64\n"
          ]
        }
      ],
      "source": [
        "# Definindo o estilo do seaborn\n",
        "sns.set(style=\"whitegrid\")\n",
        "\n",
        "# Plotando o gráfico de contagem para a coluna \"Churn\"\n",
        "plt.figure(figsize=(6, 4))\n",
        "plt.title(\"Contagem de Cancelamentos (Churn)\")\n",
        "sns.countplot(x=\"Churn\", hue=\"Churn\", data=dados_vendas, palette=\"Set2\", legend=False)\n",
        "plt.xlabel(\"Churn\")\n",
        "plt.ylabel(\"Contagem\")\n",
        "plt.show()\n",
        "\n",
        "# Contagem dos valores na coluna \"Churn\"\n",
        "churn_counts = dados_vendas['Churn'].value_counts()\n",
        "print(\"Contagem de Cancelamentos (Churn):\")\n",
        "print(churn_counts)\n"
      ]
    },
    {
      "cell_type": "markdown",
      "metadata": {},
      "source": [
        "Após plotarmos a categoria a variavel 'Churn' identificamos que a proporção de clientes que cancelaram em relação ao total é de aproximadamente 20%, o cancelamento pode representar um desafio significativo para a empresa, pois afeta diretamente a receita e a fidelidade do cliente é importante pensar em estratégias eficazes de retenção de clientes podem ser necessárias para reduzir o número de cancelamentos e aumentar a satisfação e a fidelidade do cliente."
      ]
    },
    {
      "cell_type": "markdown",
      "metadata": {},
      "source": [
        "### Agora um paralelo entre as colunas 'Churn' e 'Product Category'"
      ]
    },
    {
      "cell_type": "code",
      "execution_count": 33,
      "metadata": {},
      "outputs": [
        {
          "data": {
            "image/png": "[encoded data removed]",
            "text/plain": [
              "<Figure size 1500x600 with 1 Axes>"
            ]
          },
          "metadata": {},
          "output_type": "display_data"
        }
      ],
      "source": [
        "# Calculando a tabela cruzada entre 'Churn' e 'Product Category'\n",
        "crosstab_result_churn = pd.crosstab(df['Churn'], df['Product Category'])\n",
        "\n",
        "# Plotando o gráfico de barras empilhadas\n",
        "crosstab_result_churn.plot(kind='bar', stacked=True, figsize=(15, 6), color=['red', 'green', 'blue', 'orange', 'purple'])\n",
        "plt.title('Relação entre Churn e Product Category')\n",
        "plt.xlabel('Churn')\n",
        "plt.ylabel('Contagem')\n",
        "plt.xticks(rotation=0)\n",
        "plt.legend(title='Product Category', bbox_to_anchor=(1.05, 1), loc='upper left')\n",
        "plt.show()\n"
      ]
    },
    {
      "cell_type": "markdown",
      "metadata": {},
      "source": [
        "Depois de fazer um paralelo entre a variavel 'Churn' e a variavel 'Product Category' é possivel indentificar que as categorias \"Books\" e \"Clothing\" têm o maior número de cancelamentos, seguidas por \"Home\" e \"Electronics\", além disso identificamos áreas para melhorias, seja na qualidade do produto, na experiência do cliente ou em estratégias de retenção específicas para cada categoria."
      ]
    },
    {
      "cell_type": "markdown",
      "metadata": {
        "id": "xWGb22PVUbJ9"
      },
      "source": [
        "# Pré Processamento dos Dados"
      ]
    },
    {
      "cell_type": "code",
      "execution_count": 34,
      "metadata": {
        "colab": {
          "base_uri": "https://localhost:8080/",
          "height": 206
        },
        "id": "8elW52JmUe2C",
        "outputId": "37238242-98cc-437b-ae0f-1b30af88e16f"
      },
      "outputs": [
        {
          "data": {
            "text/html": [
              "<div>\n",
              "<style scoped>\n",
              "    .dataframe tbody tr th:only-of-type {\n",
              "        vertical-align: middle;\n",
              "    }\n",
              "\n",
              "    .dataframe tbody tr th {\n",
              "        vertical-align: top;\n",
              "    }\n",
              "\n",
              "    .dataframe thead th {\n",
              "        text-align: right;\n",
              "    }\n",
              "</style>\n",
              "<table border=\"1\" class=\"dataframe\">\n",
              "  <thead>\n",
              "    <tr style=\"text-align: right;\">\n",
              "      <th></th>\n",
              "      <th>Purchase Date</th>\n",
              "      <th>Product Category</th>\n",
              "      <th>Product Price</th>\n",
              "      <th>Quantity</th>\n",
              "      <th>Total Purchase Amount</th>\n",
              "      <th>Payment Method</th>\n",
              "      <th>Returns</th>\n",
              "      <th>Age</th>\n",
              "      <th>Gender</th>\n",
              "      <th>Churn</th>\n",
              "    </tr>\n",
              "  </thead>\n",
              "  <tbody>\n",
              "    <tr>\n",
              "      <th>0</th>\n",
              "      <td>2020-09-08 09:38:32</td>\n",
              "      <td>Electronics</td>\n",
              "      <td>12</td>\n",
              "      <td>3</td>\n",
              "      <td>740</td>\n",
              "      <td>Credit Card</td>\n",
              "      <td>0</td>\n",
              "      <td>37</td>\n",
              "      <td>Male</td>\n",
              "      <td>0</td>\n",
              "    </tr>\n",
              "    <tr>\n",
              "      <th>1</th>\n",
              "      <td>2022-03-05 12:56:35</td>\n",
              "      <td>Home</td>\n",
              "      <td>468</td>\n",
              "      <td>4</td>\n",
              "      <td>2739</td>\n",
              "      <td>PayPal</td>\n",
              "      <td>0</td>\n",
              "      <td>37</td>\n",
              "      <td>Male</td>\n",
              "      <td>0</td>\n",
              "    </tr>\n",
              "    <tr>\n",
              "      <th>2</th>\n",
              "      <td>2022-05-23 18:18:01</td>\n",
              "      <td>Home</td>\n",
              "      <td>288</td>\n",
              "      <td>2</td>\n",
              "      <td>3196</td>\n",
              "      <td>PayPal</td>\n",
              "      <td>0</td>\n",
              "      <td>37</td>\n",
              "      <td>Male</td>\n",
              "      <td>0</td>\n",
              "    </tr>\n",
              "    <tr>\n",
              "      <th>3</th>\n",
              "      <td>2020-11-12 13:13:29</td>\n",
              "      <td>Clothing</td>\n",
              "      <td>196</td>\n",
              "      <td>1</td>\n",
              "      <td>3509</td>\n",
              "      <td>PayPal</td>\n",
              "      <td>0</td>\n",
              "      <td>37</td>\n",
              "      <td>Male</td>\n",
              "      <td>0</td>\n",
              "    </tr>\n",
              "    <tr>\n",
              "      <th>4</th>\n",
              "      <td>2020-11-27 17:55:11</td>\n",
              "      <td>Home</td>\n",
              "      <td>449</td>\n",
              "      <td>1</td>\n",
              "      <td>3452</td>\n",
              "      <td>Credit Card</td>\n",
              "      <td>0</td>\n",
              "      <td>49</td>\n",
              "      <td>Female</td>\n",
              "      <td>1</td>\n",
              "    </tr>\n",
              "  </tbody>\n",
              "</table>\n",
              "</div>"
            ],
            "text/plain": [
              "         Purchase Date Product Category  Product Price  Quantity  \\\n",
              "0  2020-09-08 09:38:32      Electronics             12         3   \n",
              "1  2022-03-05 12:56:35             Home            468         4   \n",
              "2  2022-05-23 18:18:01             Home            288         2   \n",
              "3  2020-11-12 13:13:29         Clothing            196         1   \n",
              "4  2020-11-27 17:55:11             Home            449         1   \n",
              "\n",
              "   Total Purchase Amount Payment Method  Returns  Age  Gender  Churn  \n",
              "0                    740    Credit Card        0   37    Male      0  \n",
              "1                   2739         PayPal        0   37    Male      0  \n",
              "2                   3196         PayPal        0   37    Male      0  \n",
              "3                   3509         PayPal        0   37    Male      0  \n",
              "4                   3452    Credit Card        0   49  Female      1  "
            ]
          },
          "execution_count": 34,
          "metadata": {},
          "output_type": "execute_result"
        }
      ],
      "source": [
        "pd.set_option('display.max_columns', None)\n",
        "pd.set_option('display.max_rows', None)\n",
        "\n",
        "df.head()"
      ]
    },
    {
      "cell_type": "code",
      "execution_count": 35,
      "metadata": {
        "id": "ZUuHjwYsVHhJ"
      },
      "outputs": [],
      "source": [
        "# Cria o encoder\n",
        "lb = LabelEncoder()\n",
        "\n",
        "# Convertendo 'Purchase Date' para formato de data\n",
        "df['Purchase Date'] = pd.to_datetime(df['Purchase Date'])\n",
        "\n",
        "# Aplica o encoder nas variáveis categóricas\n",
        "df['Product Category'] = lb.fit_transform(df['Product Category'])\n",
        "df['Gender'] = lb.fit_transform(df['Gender'])\n",
        "df['Payment Method'] = lb.fit_transform(df['Payment Method'])"
      ]
    },
    {
      "cell_type": "code",
      "execution_count": 36,
      "metadata": {
        "colab": {
          "base_uri": "https://localhost:8080/",
          "height": 206
        },
        "id": "ght6J2CTUf1S",
        "outputId": "35a5e445-e25c-4de3-d978-09c56be2bcae"
      },
      "outputs": [
        {
          "data": {
            "text/html": [
              "<div>\n",
              "<style scoped>\n",
              "    .dataframe tbody tr th:only-of-type {\n",
              "        vertical-align: middle;\n",
              "    }\n",
              "\n",
              "    .dataframe tbody tr th {\n",
              "        vertical-align: top;\n",
              "    }\n",
              "\n",
              "    .dataframe thead th {\n",
              "        text-align: right;\n",
              "    }\n",
              "</style>\n",
              "<table border=\"1\" class=\"dataframe\">\n",
              "  <thead>\n",
              "    <tr style=\"text-align: right;\">\n",
              "      <th></th>\n",
              "      <th>Purchase Date</th>\n",
              "      <th>Product Category</th>\n",
              "      <th>Product Price</th>\n",
              "      <th>Quantity</th>\n",
              "      <th>Total Purchase Amount</th>\n",
              "      <th>Payment Method</th>\n",
              "      <th>Returns</th>\n",
              "      <th>Age</th>\n",
              "      <th>Gender</th>\n",
              "      <th>Churn</th>\n",
              "    </tr>\n",
              "  </thead>\n",
              "  <tbody>\n",
              "    <tr>\n",
              "      <th>0</th>\n",
              "      <td>2020-09-08 09:38:32</td>\n",
              "      <td>2</td>\n",
              "      <td>12</td>\n",
              "      <td>3</td>\n",
              "      <td>740</td>\n",
              "      <td>1</td>\n",
              "      <td>0</td>\n",
              "      <td>37</td>\n",
              "      <td>1</td>\n",
              "      <td>0</td>\n",
              "    </tr>\n",
              "    <tr>\n",
              "      <th>1</th>\n",
              "      <td>2022-03-05 12:56:35</td>\n",
              "      <td>3</td>\n",
              "      <td>468</td>\n",
              "      <td>4</td>\n",
              "      <td>2739</td>\n",
              "      <td>3</td>\n",
              "      <td>0</td>\n",
              "      <td>37</td>\n",
              "      <td>1</td>\n",
              "      <td>0</td>\n",
              "    </tr>\n",
              "    <tr>\n",
              "      <th>2</th>\n",
              "      <td>2022-05-23 18:18:01</td>\n",
              "      <td>3</td>\n",
              "      <td>288</td>\n",
              "      <td>2</td>\n",
              "      <td>3196</td>\n",
              "      <td>3</td>\n",
              "      <td>0</td>\n",
              "      <td>37</td>\n",
              "      <td>1</td>\n",
              "      <td>0</td>\n",
              "    </tr>\n",
              "    <tr>\n",
              "      <th>3</th>\n",
              "      <td>2020-11-12 13:13:29</td>\n",
              "      <td>1</td>\n",
              "      <td>196</td>\n",
              "      <td>1</td>\n",
              "      <td>3509</td>\n",
              "      <td>3</td>\n",
              "      <td>0</td>\n",
              "      <td>37</td>\n",
              "      <td>1</td>\n",
              "      <td>0</td>\n",
              "    </tr>\n",
              "    <tr>\n",
              "      <th>4</th>\n",
              "      <td>2020-11-27 17:55:11</td>\n",
              "      <td>3</td>\n",
              "      <td>449</td>\n",
              "      <td>1</td>\n",
              "      <td>3452</td>\n",
              "      <td>1</td>\n",
              "      <td>0</td>\n",
              "      <td>49</td>\n",
              "      <td>0</td>\n",
              "      <td>1</td>\n",
              "    </tr>\n",
              "    <tr>\n",
              "      <th>5</th>\n",
              "      <td>2023-03-07 14:17:42</td>\n",
              "      <td>3</td>\n",
              "      <td>250</td>\n",
              "      <td>4</td>\n",
              "      <td>575</td>\n",
              "      <td>3</td>\n",
              "      <td>1</td>\n",
              "      <td>49</td>\n",
              "      <td>0</td>\n",
              "      <td>1</td>\n",
              "    </tr>\n",
              "    <tr>\n",
              "      <th>6</th>\n",
              "      <td>2023-04-15 03:02:33</td>\n",
              "      <td>2</td>\n",
              "      <td>73</td>\n",
              "      <td>1</td>\n",
              "      <td>1896</td>\n",
              "      <td>1</td>\n",
              "      <td>0</td>\n",
              "      <td>49</td>\n",
              "      <td>0</td>\n",
              "      <td>1</td>\n",
              "    </tr>\n",
              "    <tr>\n",
              "      <th>7</th>\n",
              "      <td>2021-03-27 21:23:28</td>\n",
              "      <td>0</td>\n",
              "      <td>337</td>\n",
              "      <td>2</td>\n",
              "      <td>2937</td>\n",
              "      <td>0</td>\n",
              "      <td>0</td>\n",
              "      <td>49</td>\n",
              "      <td>0</td>\n",
              "      <td>1</td>\n",
              "    </tr>\n",
              "    <tr>\n",
              "      <th>8</th>\n",
              "      <td>2020-05-05 20:14:00</td>\n",
              "      <td>1</td>\n",
              "      <td>182</td>\n",
              "      <td>2</td>\n",
              "      <td>3363</td>\n",
              "      <td>3</td>\n",
              "      <td>1</td>\n",
              "      <td>49</td>\n",
              "      <td>0</td>\n",
              "      <td>1</td>\n",
              "    </tr>\n",
              "    <tr>\n",
              "      <th>9</th>\n",
              "      <td>2023-09-13 04:24:00</td>\n",
              "      <td>2</td>\n",
              "      <td>394</td>\n",
              "      <td>2</td>\n",
              "      <td>1993</td>\n",
              "      <td>1</td>\n",
              "      <td>0</td>\n",
              "      <td>19</td>\n",
              "      <td>1</td>\n",
              "      <td>0</td>\n",
              "    </tr>\n",
              "    <tr>\n",
              "      <th>10</th>\n",
              "      <td>2021-03-31 09:50:57</td>\n",
              "      <td>1</td>\n",
              "      <td>366</td>\n",
              "      <td>1</td>\n",
              "      <td>246</td>\n",
              "      <td>3</td>\n",
              "      <td>0</td>\n",
              "      <td>19</td>\n",
              "      <td>1</td>\n",
              "      <td>0</td>\n",
              "    </tr>\n",
              "    <tr>\n",
              "      <th>11</th>\n",
              "      <td>2021-01-18 22:42:24</td>\n",
              "      <td>0</td>\n",
              "      <td>348</td>\n",
              "      <td>1</td>\n",
              "      <td>2682</td>\n",
              "      <td>1</td>\n",
              "      <td>1</td>\n",
              "      <td>19</td>\n",
              "      <td>1</td>\n",
              "      <td>0</td>\n",
              "    </tr>\n",
              "    <tr>\n",
              "      <th>12</th>\n",
              "      <td>2020-01-07 12:57:35</td>\n",
              "      <td>0</td>\n",
              "      <td>103</td>\n",
              "      <td>4</td>\n",
              "      <td>731</td>\n",
              "      <td>0</td>\n",
              "      <td>0</td>\n",
              "      <td>19</td>\n",
              "      <td>1</td>\n",
              "      <td>0</td>\n",
              "    </tr>\n",
              "    <tr>\n",
              "      <th>13</th>\n",
              "      <td>2021-02-12 20:33:20</td>\n",
              "      <td>0</td>\n",
              "      <td>240</td>\n",
              "      <td>1</td>\n",
              "      <td>2563</td>\n",
              "      <td>3</td>\n",
              "      <td>0</td>\n",
              "      <td>19</td>\n",
              "      <td>1</td>\n",
              "      <td>0</td>\n",
              "    </tr>\n",
              "    <tr>\n",
              "      <th>16</th>\n",
              "      <td>2020-01-13 09:57:17</td>\n",
              "      <td>0</td>\n",
              "      <td>153</td>\n",
              "      <td>5</td>\n",
              "      <td>698</td>\n",
              "      <td>1</td>\n",
              "      <td>0</td>\n",
              "      <td>55</td>\n",
              "      <td>1</td>\n",
              "      <td>0</td>\n",
              "    </tr>\n",
              "    <tr>\n",
              "      <th>17</th>\n",
              "      <td>2023-06-18 21:34:27</td>\n",
              "      <td>1</td>\n",
              "      <td>259</td>\n",
              "      <td>1</td>\n",
              "      <td>2975</td>\n",
              "      <td>1</td>\n",
              "      <td>0</td>\n",
              "      <td>55</td>\n",
              "      <td>1</td>\n",
              "      <td>0</td>\n",
              "    </tr>\n",
              "    <tr>\n",
              "      <th>18</th>\n",
              "      <td>2021-09-10 00:39:41</td>\n",
              "      <td>0</td>\n",
              "      <td>489</td>\n",
              "      <td>3</td>\n",
              "      <td>2213</td>\n",
              "      <td>1</td>\n",
              "      <td>1</td>\n",
              "      <td>55</td>\n",
              "      <td>1</td>\n",
              "      <td>0</td>\n",
              "    </tr>\n",
              "    <tr>\n",
              "      <th>19</th>\n",
              "      <td>2023-06-01 19:07:10</td>\n",
              "      <td>0</td>\n",
              "      <td>232</td>\n",
              "      <td>3</td>\n",
              "      <td>4452</td>\n",
              "      <td>3</td>\n",
              "      <td>1</td>\n",
              "      <td>55</td>\n",
              "      <td>1</td>\n",
              "      <td>0</td>\n",
              "    </tr>\n",
              "    <tr>\n",
              "      <th>22</th>\n",
              "      <td>2023-07-08 13:36:47</td>\n",
              "      <td>1</td>\n",
              "      <td>288</td>\n",
              "      <td>2</td>\n",
              "      <td>1405</td>\n",
              "      <td>3</td>\n",
              "      <td>0</td>\n",
              "      <td>67</td>\n",
              "      <td>1</td>\n",
              "      <td>0</td>\n",
              "    </tr>\n",
              "    <tr>\n",
              "      <th>25</th>\n",
              "      <td>2020-04-07 04:24:44</td>\n",
              "      <td>0</td>\n",
              "      <td>100</td>\n",
              "      <td>5</td>\n",
              "      <td>1273</td>\n",
              "      <td>0</td>\n",
              "      <td>0</td>\n",
              "      <td>67</td>\n",
              "      <td>1</td>\n",
              "      <td>0</td>\n",
              "    </tr>\n",
              "  </tbody>\n",
              "</table>\n",
              "</div>"
            ],
            "text/plain": [
              "         Purchase Date  Product Category  Product Price  Quantity  \\\n",
              "0  2020-09-08 09:38:32                 2             12         3   \n",
              "1  2022-03-05 12:56:35                 3            468         4   \n",
              "2  2022-05-23 18:18:01                 3            288         2   \n",
              "3  2020-11-12 13:13:29                 1            196         1   \n",
              "4  2020-11-27 17:55:11                 3            449         1   \n",
              "5  2023-03-07 14:17:42                 3            250         4   \n",
              "6  2023-04-15 03:02:33                 2             73         1   \n",
              "7  2021-03-27 21:23:28                 0            337         2   \n",
              "8  2020-05-05 20:14:00                 1            182         2   \n",
              "9  2023-09-13 04:24:00                 2            394         2   \n",
              "10 2021-03-31 09:50:57                 1            366         1   \n",
              "11 2021-01-18 22:42:24                 0            348         1   \n",
              "12 2020-01-07 12:57:35                 0            103         4   \n",
              "13 2021-02-12 20:33:20                 0            240         1   \n",
              "16 2020-01-13 09:57:17                 0            153         5   \n",
              "17 2023-06-18 21:34:27                 1            259         1   \n",
              "18 2021-09-10 00:39:41                 0            489         3   \n",
              "19 2023-06-01 19:07:10                 0            232         3   \n",
              "22 2023-07-08 13:36:47                 1            288         2   \n",
              "25 2020-04-07 04:24:44                 0            100         5   \n",
              "\n",
              "    Total Purchase Amount  Payment Method  Returns  Age  Gender  Churn  \n",
              "0                     740               1        0   37       1      0  \n",
              "1                    2739               3        0   37       1      0  \n",
              "2                    3196               3        0   37       1      0  \n",
              "3                    3509               3        0   37       1      0  \n",
              "4                    3452               1        0   49       0      1  \n",
              "5                     575               3        1   49       0      1  \n",
              "6                    1896               1        0   49       0      1  \n",
              "7                    2937               0        0   49       0      1  \n",
              "8                    3363               3        1   49       0      1  \n",
              "9                    1993               1        0   19       1      0  \n",
              "10                    246               3        0   19       1      0  \n",
              "11                   2682               1        1   19       1      0  \n",
              "12                    731               0        0   19       1      0  \n",
              "13                   2563               3        0   19       1      0  \n",
              "16                    698               1        0   55       1      0  \n",
              "17                   2975               1        0   55       1      0  \n",
              "18                   2213               1        1   55       1      0  \n",
              "19                   4452               3        1   55       1      0  \n",
              "22                   1405               3        0   67       1      0  \n",
              "25                   1273               0        0   67       1      0  "
            ]
          },
          "execution_count": 36,
          "metadata": {},
          "output_type": "execute_result"
        }
      ],
      "source": [
        "pd.set_option('display.max_columns', None)\n",
        "pd.set_option('display.max_rows', None)\n",
        "\n",
        "df.head(20)"
      ]
    },
    {
      "cell_type": "code",
      "execution_count": 37,
      "metadata": {
        "colab": {
          "base_uri": "https://localhost:8080/"
        },
        "id": "tbaXPPvCVjlz",
        "outputId": "d6e8de70-b93b-4e0e-e331-35205fb62511"
      },
      "outputs": [
        {
          "data": {
            "text/plain": [
              "(202404, 10)"
            ]
          },
          "execution_count": 37,
          "metadata": {},
          "output_type": "execute_result"
        }
      ],
      "source": [
        "# Shape\n",
        "df.shape"
      ]
    },
    {
      "cell_type": "code",
      "execution_count": 38,
      "metadata": {
        "colab": {
          "base_uri": "https://localhost:8080/"
        },
        "id": "wGwr9O5RVpy0",
        "outputId": "16c0e6ae-2ca6-457a-9a2c-deb744c3b7ad"
      },
      "outputs": [
        {
          "name": "stdout",
          "output_type": "stream",
          "text": [
            "Churn\n",
            "0    162040\n",
            "1     40364\n",
            "Name: count, dtype: int64\n"
          ]
        }
      ],
      "source": [
        "# Verificando se a variável resposta está balanceada\n",
        "target_count = df['Churn'].value_counts()\n",
        "print(target_count)"
      ]
    },
    {
      "cell_type": "code",
      "execution_count": 39,
      "metadata": {},
      "outputs": [
        {
          "name": "stdout",
          "output_type": "stream",
          "text": [
            "0    0\n",
            "1    0\n",
            "2    0\n",
            "3    0\n",
            "4    1\n",
            "5    1\n",
            "6    1\n",
            "7    1\n",
            "8    1\n",
            "9    0\n",
            "Name: Churn, dtype: int32\n"
          ]
        }
      ],
      "source": [
        "# Verificando a variável resposta \n",
        "print(df['Churn'].head(10))\n"
      ]
    },
    {
      "cell_type": "code",
      "execution_count": 40,
      "metadata": {},
      "outputs": [
        {
          "name": "stdout",
          "output_type": "stream",
          "text": [
            "Purchase Date            0\n",
            "Product Category         0\n",
            "Product Price            0\n",
            "Quantity                 0\n",
            "Total Purchase Amount    0\n",
            "Payment Method           0\n",
            "Returns                  0\n",
            "Age                      0\n",
            "Gender                   0\n",
            "Churn                    0\n",
            "dtype: int64\n"
          ]
        }
      ],
      "source": [
        "#Verificação de valores faltantes\n",
        "print(df.isna().sum())"
      ]
    },
    {
      "cell_type": "code",
      "execution_count": 41,
      "metadata": {},
      "outputs": [
        {
          "data": {
            "text/plain": [
              "(202404, 10)"
            ]
          },
          "execution_count": 41,
          "metadata": {},
          "output_type": "execute_result"
        }
      ],
      "source": [
        "# Shape\n",
        "df.shape"
      ]
    },
    {
      "cell_type": "code",
      "execution_count": 42,
      "metadata": {
        "colab": {
          "base_uri": "https://localhost:8080/",
          "height": 506
        },
        "id": "PCIO9nUAW7yQ",
        "outputId": "ad02e9e9-f380-4367-8274-026d84b03f04"
      },
      "outputs": [
        {
          "data": {
            "image/png": "[encoded data removed]",
            "text/plain": [
              "<Figure size 600x400 with 1 Axes>"
            ]
          },
          "metadata": {},
          "output_type": "display_data"
        },
        {
          "name": "stdout",
          "output_type": "stream",
          "text": [
            "Contagem de Cancelamento:\n",
            "Churn\n",
            "0    162040\n",
            "1     40364\n",
            "Name: count, dtype: int64\n"
          ]
        }
      ],
      "source": [
        "\n",
        "# Definindo o estilo do seaborn\n",
        "sns.set(style=\"whitegrid\")\n",
        "\n",
        "# Plotando o gráfico de contagem para a coluna \"Churn\"\n",
        "plt.figure(figsize=(6, 4))\n",
        "plt.title(\"Contagem de Cancelamento\")\n",
        "sns.countplot(x=\"Churn\", hue=\"Churn\", data=df, palette=\"Set2\", dodge=False)\n",
        "plt.xlabel(\"Churn\")\n",
        "plt.ylabel(\"Contagem\")\n",
        "\n",
        "# Adicionando a legenda \n",
        "handles, labels = plt.gca().get_legend_handles_labels()\n",
        "labels = ['Manteve', 'Cancelou']\n",
        "plt.legend(handles, labels, title=\"Status\")\n",
        "\n",
        "plt.show()\n",
        "\n",
        "# Contagem de Cancelamento\n",
        "return_counts = df['Churn'].value_counts()\n",
        "print(\"Contagem de Cancelamento:\")\n",
        "print(return_counts)"
      ]
    },
    {
      "cell_type": "markdown",
      "metadata": {},
      "source": [
        "Observando os resultados temos algumas avaliações  de Percentual \n",
        "* Clientes Retidos:Aproximadamente 80% dos clientes não cancelaram.\n",
        "* Clientes Cancelados: Aproximadamente 20% dos clientes cancelaram.\n",
        "\n",
        "Esses percentuais fornecem uma visão clara de que a maioria dos clientes está satisfeita ou, pelo menos, não cancelou o serviço, enquanto uma minoria significativa optou pelo cancelamento, o que pode ser um ponto de análise para entender e possivelmente reduzir o churn."
      ]
    },
    {
      "cell_type": "markdown",
      "metadata": {},
      "source": [
        "Agora faremos um tratamento na nossa variavel alvo para utilizarmos no modelo"
      ]
    },
    {
      "cell_type": "code",
      "execution_count": 43,
      "metadata": {
        "colab": {
          "base_uri": "https://localhost:8080/"
        },
        "id": "0e05JFfMLBUf",
        "outputId": "71aa4ff3-d21a-465d-f782-d7b0b11c3995"
      },
      "outputs": [
        {
          "name": "stdout",
          "output_type": "stream",
          "text": [
            "Valores NaN antes do tratamento:\n",
            "0\n",
            "Valores NaN depois do tratamento:\n",
            "0\n",
            "Antes do balanceamento:\n",
            "Churn\n",
            "0    162040\n",
            "1     40364\n",
            "Name: count, dtype: int64\n",
            "Depois do balanceamento:\n",
            "Churn\n",
            "0    162040\n",
            "1    162040\n",
            "Name: count, dtype: int64\n"
          ]
        }
      ],
      "source": [
        "# Seed\n",
        "seed = 1000\n",
        "\n",
        "# Verifica se há valores NaN na coluna 'Churn'\n",
        "print(\"Valores NaN antes do tratamento:\")\n",
        "print(df['Churn'].isna().sum())\n",
        "\n",
        "# Trata os valores NaN (removendo as linhas com NaN na coluna 'Churn')\n",
        "df = df.dropna(subset=['Churn'])\n",
        "\n",
        "# Verifica novamente para garantir que os valores NaN foram removidos\n",
        "print(\"Valores NaN depois do tratamento:\")\n",
        "print(df['Churn'].isna().sum())\n",
        "\n",
        "# Dividindo os dados em características (X) e alvo (y)\n",
        "df['Purchase Date'] = pd.to_datetime(df['Purchase Date'])\n",
        "df['Purchase Year'] = df['Purchase Date'].dt.year\n",
        "df['Purchase Month'] = df['Purchase Date'].dt.month\n",
        "df['Purchase Day'] = df['Purchase Date'].dt.day\n",
        "df['Purchase Hour'] = df['Purchase Date'].dt.hour\n",
        "\n",
        "# Removendo a coluna original de data e outras que não são necessárias\n",
        "X = df.drop(['Churn', 'Purchase Date'], axis=1)\n",
        "y = df['Churn']\n",
        "\n",
        "# Seleciona apenas as colunas numéricas para X\n",
        "numeric_features = X.select_dtypes(include=['int64', 'float64']).columns\n",
        "X_numeric = X[numeric_features]\n",
        "\n",
        "# Cria o pré-processador para padronizar os dados\n",
        "preprocessor = ColumnTransformer(transformers=[('num', StandardScaler(), numeric_features)])\n",
        "\n",
        "# Cria o pipeline com pré-processador e balanceador SMOTE\n",
        "pipeline = Pipeline(steps=[('preprocessor', preprocessor),\n",
        "                           ('smote', SMOTE(random_state=seed))])\n",
        "\n",
        "# Aplica o pipeline\n",
        "X_res, y_res = pipeline.fit_resample(X_numeric, y)\n",
        "\n",
        "print(f\"Antes do balanceamento:\\n{y.value_counts()}\")\n",
        "print(f\"Depois do balanceamento:\\n{y_res.value_counts()}\")\n"
      ]
    },
    {
      "cell_type": "code",
      "execution_count": 44,
      "metadata": {
        "colab": {
          "base_uri": "https://localhost:8080/"
        },
        "id": "amRztd0CMNvu",
        "outputId": "60ed67ac-7144-47f8-98fe-363bcb65cf93"
      },
      "outputs": [
        {
          "data": {
            "text/plain": [
              "(202404, 14)"
            ]
          },
          "execution_count": 44,
          "metadata": {},
          "output_type": "execute_result"
        }
      ],
      "source": [
        "# Shape dos dados originais\n",
        "df.shape"
      ]
    },
    {
      "cell_type": "code",
      "execution_count": 45,
      "metadata": {},
      "outputs": [
        {
          "data": {
            "text/html": [
              "<div>\n",
              "<style scoped>\n",
              "    .dataframe tbody tr th:only-of-type {\n",
              "        vertical-align: middle;\n",
              "    }\n",
              "\n",
              "    .dataframe tbody tr th {\n",
              "        vertical-align: top;\n",
              "    }\n",
              "\n",
              "    .dataframe thead th {\n",
              "        text-align: right;\n",
              "    }\n",
              "</style>\n",
              "<table border=\"1\" class=\"dataframe\">\n",
              "  <thead>\n",
              "    <tr style=\"text-align: right;\">\n",
              "      <th></th>\n",
              "      <th>Purchase Date</th>\n",
              "      <th>Product Category</th>\n",
              "      <th>Product Price</th>\n",
              "      <th>Quantity</th>\n",
              "      <th>Total Purchase Amount</th>\n",
              "      <th>Payment Method</th>\n",
              "      <th>Returns</th>\n",
              "      <th>Age</th>\n",
              "      <th>Gender</th>\n",
              "      <th>Churn</th>\n",
              "      <th>Purchase Year</th>\n",
              "      <th>Purchase Month</th>\n",
              "      <th>Purchase Day</th>\n",
              "      <th>Purchase Hour</th>\n",
              "    </tr>\n",
              "  </thead>\n",
              "  <tbody>\n",
              "    <tr>\n",
              "      <th>0</th>\n",
              "      <td>2020-09-08 09:38:32</td>\n",
              "      <td>2</td>\n",
              "      <td>12</td>\n",
              "      <td>3</td>\n",
              "      <td>740</td>\n",
              "      <td>1</td>\n",
              "      <td>0</td>\n",
              "      <td>37</td>\n",
              "      <td>1</td>\n",
              "      <td>0</td>\n",
              "      <td>2020</td>\n",
              "      <td>9</td>\n",
              "      <td>8</td>\n",
              "      <td>9</td>\n",
              "    </tr>\n",
              "    <tr>\n",
              "      <th>1</th>\n",
              "      <td>2022-03-05 12:56:35</td>\n",
              "      <td>3</td>\n",
              "      <td>468</td>\n",
              "      <td>4</td>\n",
              "      <td>2739</td>\n",
              "      <td>3</td>\n",
              "      <td>0</td>\n",
              "      <td>37</td>\n",
              "      <td>1</td>\n",
              "      <td>0</td>\n",
              "      <td>2022</td>\n",
              "      <td>3</td>\n",
              "      <td>5</td>\n",
              "      <td>12</td>\n",
              "    </tr>\n",
              "    <tr>\n",
              "      <th>2</th>\n",
              "      <td>2022-05-23 18:18:01</td>\n",
              "      <td>3</td>\n",
              "      <td>288</td>\n",
              "      <td>2</td>\n",
              "      <td>3196</td>\n",
              "      <td>3</td>\n",
              "      <td>0</td>\n",
              "      <td>37</td>\n",
              "      <td>1</td>\n",
              "      <td>0</td>\n",
              "      <td>2022</td>\n",
              "      <td>5</td>\n",
              "      <td>23</td>\n",
              "      <td>18</td>\n",
              "    </tr>\n",
              "    <tr>\n",
              "      <th>3</th>\n",
              "      <td>2020-11-12 13:13:29</td>\n",
              "      <td>1</td>\n",
              "      <td>196</td>\n",
              "      <td>1</td>\n",
              "      <td>3509</td>\n",
              "      <td>3</td>\n",
              "      <td>0</td>\n",
              "      <td>37</td>\n",
              "      <td>1</td>\n",
              "      <td>0</td>\n",
              "      <td>2020</td>\n",
              "      <td>11</td>\n",
              "      <td>12</td>\n",
              "      <td>13</td>\n",
              "    </tr>\n",
              "    <tr>\n",
              "      <th>4</th>\n",
              "      <td>2020-11-27 17:55:11</td>\n",
              "      <td>3</td>\n",
              "      <td>449</td>\n",
              "      <td>1</td>\n",
              "      <td>3452</td>\n",
              "      <td>1</td>\n",
              "      <td>0</td>\n",
              "      <td>49</td>\n",
              "      <td>0</td>\n",
              "      <td>1</td>\n",
              "      <td>2020</td>\n",
              "      <td>11</td>\n",
              "      <td>27</td>\n",
              "      <td>17</td>\n",
              "    </tr>\n",
              "  </tbody>\n",
              "</table>\n",
              "</div>"
            ],
            "text/plain": [
              "        Purchase Date  Product Category  Product Price  Quantity  \\\n",
              "0 2020-09-08 09:38:32                 2             12         3   \n",
              "1 2022-03-05 12:56:35                 3            468         4   \n",
              "2 2022-05-23 18:18:01                 3            288         2   \n",
              "3 2020-11-12 13:13:29                 1            196         1   \n",
              "4 2020-11-27 17:55:11                 3            449         1   \n",
              "\n",
              "   Total Purchase Amount  Payment Method  Returns  Age  Gender  Churn  \\\n",
              "0                    740               1        0   37       1      0   \n",
              "1                   2739               3        0   37       1      0   \n",
              "2                   3196               3        0   37       1      0   \n",
              "3                   3509               3        0   37       1      0   \n",
              "4                   3452               1        0   49       0      1   \n",
              "\n",
              "   Purchase Year  Purchase Month  Purchase Day  Purchase Hour  \n",
              "0           2020               9             8              9  \n",
              "1           2022               3             5             12  \n",
              "2           2022               5            23             18  \n",
              "3           2020              11            12             13  \n",
              "4           2020              11            27             17  "
            ]
          },
          "execution_count": 45,
          "metadata": {},
          "output_type": "execute_result"
        }
      ],
      "source": [
        "df.head()"
      ]
    },
    {
      "cell_type": "code",
      "execution_count": 46,
      "metadata": {
        "colab": {
          "base_uri": "https://localhost:8080/"
        },
        "id": "cVjCGnNCMQXC",
        "outputId": "901d9b07-c277-45a2-b7d2-a099d556e032"
      },
      "outputs": [
        {
          "data": {
            "text/plain": [
              "(324080,)"
            ]
          },
          "execution_count": 46,
          "metadata": {},
          "output_type": "execute_result"
        }
      ],
      "source": [
        "# Shape dos dados reamostrados\n",
        "y_res.shape"
      ]
    },
    {
      "cell_type": "code",
      "execution_count": 47,
      "metadata": {
        "id": "eZxDtwm7MX0L"
      },
      "outputs": [],
      "source": [
        "# Ajustando X e y para utilizar apenas 1000 observações\n",
        "X = X_res\n",
        "y = y_res\n",
        "\n"
      ]
    },
    {
      "cell_type": "code",
      "execution_count": 48,
      "metadata": {
        "id": "e2iD9rd-MnY8"
      },
      "outputs": [],
      "source": [
        "# Divisão em Dados de Treino e Teste.\n",
        "X_treino, X_teste, y_treino, y_teste = train_test_split(X, y, test_size = 0.3, random_state = 42)"
      ]
    },
    {
      "cell_type": "markdown",
      "metadata": {},
      "source": [
        "# Matriz De Confusão"
      ]
    },
    {
      "cell_type": "code",
      "execution_count": 49,
      "metadata": {},
      "outputs": [
        {
          "name": "stdout",
          "output_type": "stream",
          "text": [
            "Matriz de Confusão:\n",
            "[[30841 17613]\n",
            " [ 7956  4312]]\n",
            "Relatório de Classificação:\n",
            "              precision    recall  f1-score   support\n",
            "\n",
            "           0       0.79      0.64      0.71     48454\n",
            "           1       0.20      0.35      0.25     12268\n",
            "\n",
            "    accuracy                           0.58     60722\n",
            "   macro avg       0.50      0.49      0.48     60722\n",
            "weighted avg       0.67      0.58      0.62     60722\n",
            "\n",
            "Tempo de treinamento: 3936.15 segundos\n",
            "Tempo de previsão: 227.89 segundos\n"
          ]
        },
        {
          "data": {
            "image/png": "[encoded data removed]",
            "text/plain": [
              "<Figure size 800x600 with 2 Axes>"
            ]
          },
          "metadata": {},
          "output_type": "display_data"
        }
      ],
      "source": [
        "from sklearn.svm import SVC\n",
        "from sklearn.metrics import confusion_matrix, classification_report\n",
        "\n",
        "# Codificando variáveis categóricas se necessário\n",
        "label_encoders = {}\n",
        "for column in X.select_dtypes(include=['object']).columns:\n",
        "    le = LabelEncoder()\n",
        "    X[column] = le.fit_transform(X[column])\n",
        "    label_encoders[column] = le\n",
        "\n",
        "# Dividindo os dados em conjuntos de treinamento e teste\n",
        "X_train, X_test, y_train, y_test = train_test_split(X, y, test_size=0.3, random_state=42)\n",
        "\n",
        "# Criando um pipeline com oversampling SMOTE e SVM\n",
        "pipeline = Pipeline([\n",
        "    ('smote', SMOTE(random_state=42)),\n",
        "    ('scaler', StandardScaler()),\n",
        "    ('svm', SVC(kernel='linear', random_state=42))\n",
        "])\n",
        "\n",
        "# Medindo o tempo de treinamento\n",
        "start_train = time.time()\n",
        "pipeline.fit(X_train, y_train)\n",
        "end_train = time.time()\n",
        "\n",
        "# Medindo o tempo de previsão\n",
        "start_pred = time.time()\n",
        "y_pred = pipeline.predict(X_test)\n",
        "end_pred = time.time()\n",
        "\n",
        "# Gerando a matriz de confusão\n",
        "conf_matrix = confusion_matrix(y_test, y_pred)\n",
        "print(\"Matriz de Confusão:\")\n",
        "print(conf_matrix)\n",
        "\n",
        "# Gerando um relatório de classificação para mais métricas\n",
        "class_report = classification_report(y_test, y_pred)\n",
        "print(\"Relatório de Classificação:\")\n",
        "print(class_report)\n",
        "\n",
        "# Tempo de execução\n",
        "train_time = end_train - start_train\n",
        "pred_time = end_pred - start_pred\n",
        "print(f\"Tempo de treinamento: {train_time:.2f} segundos\")\n",
        "print(f\"Tempo de previsão: {pred_time:.2f} segundos\")\n",
        "\n",
        "# Plotando a matriz de confusão\n",
        "plt.figure(figsize=(8, 6))\n",
        "sns.heatmap(conf_matrix, annot=True, fmt='d', cmap='Blues', xticklabels=['Retido', 'Cancelamento'], yticklabels=['Retido', 'Cancelamento'])\n",
        "plt.xlabel('Previsto')\n",
        "plt.ylabel('Atual')\n",
        "plt.title('Matriz de Confusão')\n",
        "\n",
        "# Salvando a imagem do plot da matriz de confusão\n",
        "plt.savefig('confusion_matrix.png')\n",
        "\n",
        "plt.show()\n"
      ]
    },
    {
      "cell_type": "markdown",
      "metadata": {
        "id": "B9XmNaWOwqU5"
      },
      "source": [
        "# Modelo SVM"
      ]
    },
    {
      "cell_type": "markdown",
      "metadata": {
        "id": "bqiEeamdwuNP"
      },
      "source": [
        "### Modelo Base com Kernel Linear"
      ]
    },
    {
      "cell_type": "code",
      "execution_count": 49,
      "metadata": {
        "id": "HmQ_FyMAwwX4"
      },
      "outputs": [],
      "source": [
        "# Cria o modelo\n",
        "modelo_v1 = svm.SVC(kernel = 'linear')"
      ]
    },
    {
      "cell_type": "code",
      "execution_count": 50,
      "metadata": {
        "colab": {
          "base_uri": "https://localhost:8080/"
        },
        "id": "RRbZX0aewxP_",
        "outputId": "9827c1f2-7c07-4b77-96c8-72004444d810"
      },
      "outputs": [
        {
          "name": "stdout",
          "output_type": "stream",
          "text": [
            "Tempo de Treinamento do Modelo: 1035.7867698669434\n"
          ]
        }
      ],
      "source": [
        "# Treinamento\n",
        "start = time.time()\n",
        "modelo_v1.fit(X_treino, y_treino)\n",
        "end = time.time()\n",
        "print('Tempo de Treinamento do Modelo:', end - start)"
      ]
    },
    {
      "cell_type": "code",
      "execution_count": 51,
      "metadata": {
        "id": "Jt4hHcfDw2yX"
      },
      "outputs": [],
      "source": [
        "# Previsões\n",
        "previsoes_v1 = modelo_v1.predict(X_teste)"
      ]
    },
    {
      "cell_type": "code",
      "execution_count": 52,
      "metadata": {
        "id": "I7XklwPXw6S1"
      },
      "outputs": [],
      "source": [
        "# Dicionário de métricas e metadados\n",
        "SVM_dict_v1 = {'Modelo':'SVM',\n",
        "               'Versão':'1',\n",
        "               'Kernel':'Linear',\n",
        "               'Precision':precision_score(previsoes_v1, y_teste),\n",
        "               'Recall':recall_score(previsoes_v1, y_teste),\n",
        "               'F1 Score':f1_score(previsoes_v1, y_teste),\n",
        "               'Acurácia':accuracy_score(previsoes_v1, y_teste),\n",
        "               'AUC':roc_auc_score(y_teste, previsoes_v1)}"
      ]
    },
    {
      "cell_type": "code",
      "execution_count": 53,
      "metadata": {
        "colab": {
          "base_uri": "https://localhost:8080/"
        },
        "id": "EMTsk-lNw6xn",
        "outputId": "dcee77a2-18c7-4d25-992f-a1a0864df3cd"
      },
      "outputs": [
        {
          "name": "stdout",
          "output_type": "stream",
          "text": [
            "Métricas em Teste:\n",
            "\n"
          ]
        },
        {
          "data": {
            "text/plain": [
              "{'Modelo': 'SVM',\n",
              " 'Versão': '1',\n",
              " 'Kernel': 'Linear',\n",
              " 'Precision': 0.5166105754341048,\n",
              " 'Recall': 0.4999500469558615,\n",
              " 'F1 Score': 0.5081437855402112,\n",
              " 'Acurácia': 0.5017896815601086,\n",
              " 'AUC': 0.5018440551126786}"
            ]
          },
          "execution_count": 53,
          "metadata": {},
          "output_type": "execute_result"
        }
      ],
      "source": [
        "# Print\n",
        "print(\"Métricas em Teste:\\n\")\n",
        "SVM_dict_v1"
      ]
    },
    {
      "cell_type": "markdown",
      "metadata": {
        "id": "OJsxnh22w-kK"
      },
      "source": [
        "### Modelo com Kernel Linear e Dados Padronizados (Scaled)"
      ]
    },
    {
      "cell_type": "code",
      "execution_count": 54,
      "metadata": {
        "id": "xWVODSmtxK5G"
      },
      "outputs": [],
      "source": [
        "# Agora sim, a forma ideal de aplicar a padronização em treino e teste\n",
        "# Padronização\n",
        "sc = StandardScaler()\n",
        "X_treino_scaled = sc.fit_transform(X_treino)\n",
        "X_teste_scaled = sc.transform(X_teste)"
      ]
    },
    {
      "cell_type": "code",
      "execution_count": 55,
      "metadata": {
        "colab": {
          "base_uri": "https://localhost:8080/"
        },
        "id": "XrnruQfgxNbN",
        "outputId": "e07bf43d-a000-45ff-dd56-db716b9abd07"
      },
      "outputs": [
        {
          "data": {
            "text/plain": [
              "array([[-1.20960761e+00,  9.43104033e-04,  2.76112514e-01,\n",
              "         3.97349295e-01],\n",
              "       [-1.43564840e+00, -1.41126025e+00, -1.41534836e+00,\n",
              "         5.27448364e-01],\n",
              "       [-1.15963865e+00,  1.41314646e+00,  6.91644897e-01,\n",
              "        -6.92020667e-03],\n",
              "       ...,\n",
              "       [-9.27056609e-01,  7.07044782e-01, -1.33063644e+00,\n",
              "        -5.79974480e-02],\n",
              "       [-2.63061764e-01,  9.43104033e-04, -1.58268911e+00,\n",
              "        -1.35898814e+00],\n",
              "       [ 3.86805530e-01,  7.07044782e-01, -1.62296199e+00,\n",
              "         9.82795106e-01]])"
            ]
          },
          "execution_count": 55,
          "metadata": {},
          "output_type": "execute_result"
        }
      ],
      "source": [
        "X_treino_scaled"
      ]
    },
    {
      "cell_type": "code",
      "execution_count": 56,
      "metadata": {
        "colab": {
          "base_uri": "https://localhost:8080/"
        },
        "id": "bYvvOsTCxPXz",
        "outputId": "f17d873e-fdcf-4289-ada0-5bd0f68bb590"
      },
      "outputs": [
        {
          "data": {
            "text/plain": [
              "array([[-1.85360240e-01,  9.43104033e-04,  1.13711887e+00,\n",
              "         1.37309231e+00],\n",
              "       [-4.18464813e-01,  9.43104033e-04,  1.28571190e+00,\n",
              "         2.67250225e-01],\n",
              "       [ 8.24759577e-01,  1.41314646e+00,  5.83019618e-01,\n",
              "        -1.88096517e-01],\n",
              "       ...,\n",
              "       [ 1.20620342e+00, -1.41126025e+00,  7.30223930e-01,\n",
              "        -3.83245121e-01],\n",
              "       [-9.97694358e-01, -7.05158574e-01,  1.14683991e+00,\n",
              "        -1.68423581e+00],\n",
              "       [-1.33675556e+00, -7.05158574e-01, -1.52783467e+00,\n",
              "        -1.35898814e+00]])"
            ]
          },
          "execution_count": 56,
          "metadata": {},
          "output_type": "execute_result"
        }
      ],
      "source": [
        "X_teste_scaled"
      ]
    },
    {
      "cell_type": "code",
      "execution_count": 57,
      "metadata": {
        "id": "eI0Gj2XrxRxz"
      },
      "outputs": [],
      "source": [
        "# Cria o modelo\n",
        "modelo_v2 = svm.SVC(kernel = 'linear')"
      ]
    },
    {
      "cell_type": "code",
      "execution_count": 58,
      "metadata": {
        "colab": {
          "base_uri": "https://localhost:8080/"
        },
        "id": "24xDnbs6xTFi",
        "outputId": "2d5edb93-ed8d-4127-a7ec-2e4b119b58c5"
      },
      "outputs": [
        {
          "name": "stdout",
          "output_type": "stream",
          "text": [
            "Tempo de Treinamento do Modelo: 1019.5906615257263\n"
          ]
        }
      ],
      "source": [
        "# Treinamento\n",
        "start = time.time()\n",
        "modelo_v2.fit(X_treino_scaled, y_treino)\n",
        "end = time.time()\n",
        "print('Tempo de Treinamento do Modelo:', end - start)"
      ]
    },
    {
      "cell_type": "code",
      "execution_count": 59,
      "metadata": {
        "id": "IFYQZRYhxUOO"
      },
      "outputs": [],
      "source": [
        "# Previsões\n",
        "previsoes_v2 = modelo_v2.predict(X_teste_scaled)"
      ]
    },
    {
      "cell_type": "code",
      "execution_count": 60,
      "metadata": {
        "id": "9UboRtjDxVkp"
      },
      "outputs": [],
      "source": [
        "# Dicionário de métricas e metadados\n",
        "SVM_dict_v2 = {'Modelo':'SVM',\n",
        "               'Versão':'2',\n",
        "               'Kernel':'Linear com Dados Padronizados',\n",
        "               'Precision':precision_score(previsoes_v2, y_teste),\n",
        "               'Recall':recall_score(previsoes_v2, y_teste),\n",
        "               'F1 Score':f1_score(previsoes_v2, y_teste),\n",
        "               'Acurácia':accuracy_score(previsoes_v2, y_teste),\n",
        "               'AUC':roc_auc_score(y_teste, previsoes_v2)}"
      ]
    },
    {
      "cell_type": "code",
      "execution_count": 61,
      "metadata": {
        "colab": {
          "base_uri": "https://localhost:8080/"
        },
        "id": "8quatDXBxWzw",
        "outputId": "22d8c7da-5246-44d1-cc8a-6611af00da96"
      },
      "outputs": [
        {
          "name": "stdout",
          "output_type": "stream",
          "text": [
            "Métricas em Teste:\n",
            "\n"
          ]
        },
        {
          "data": {
            "text/plain": [
              "{'Modelo': 'SVM',\n",
              " 'Versão': '2',\n",
              " 'Kernel': 'Linear com Dados Padronizados',\n",
              " 'Precision': 0.5166518695930461,\n",
              " 'Recall': 0.4999400623351714,\n",
              " 'F1 Score': 0.5081586028329187,\n",
              " 'Acurácia': 0.5017793960339011,\n",
              " 'AUC': 0.5018339588173465}"
            ]
          },
          "execution_count": 61,
          "metadata": {},
          "output_type": "execute_result"
        }
      ],
      "source": [
        "# Print\n",
        "print(\"Métricas em Teste:\\n\")\n",
        "SVM_dict_v2"
      ]
    },
    {
      "cell_type": "markdown",
      "metadata": {
        "id": "SbvqLQDzxYcf"
      },
      "source": [
        "### Otimização de Hiperparâmetros com RandomizedSearch e Kernel RBF"
      ]
    },
    {
      "cell_type": "code",
      "execution_count": 62,
      "metadata": {
        "colab": {
          "base_uri": "https://localhost:8080/"
        },
        "id": "tDawW4LexZL4",
        "outputId": "6abf57ed-9fed-45ae-c6f7-01fce477ffe8"
      },
      "outputs": [
        {
          "name": "stdout",
          "output_type": "stream",
          "text": [
            "Tempo de Treinamento do Modelo com Randomized Search: 5943.00283908844\n",
            "Acurácia em Treinamento: 50.13%\n",
            "\n",
            "Hiperparâmetros Ideais: {'gamma': 0.0003, 'C': 200.0}\n"
          ]
        }
      ],
      "source": [
        "# Definir o modelo SVM com kernel RBF\n",
        "modelo_v3 = svm.SVC(kernel='rbf')\n",
        "\n",
        "# Valores para o grid inicial\n",
        "C_range = np.array([50., 100., 200.])\n",
        "gamma_range = np.array([0.3*0.001, 0.001, 3*0.001])\n",
        "\n",
        "# Grid de hiperparâmetros\n",
        "svm_param_grid = dict(gamma=gamma_range, C=C_range)\n",
        "\n",
        "# Usando RandomizedSearch\n",
        "start = time.time()\n",
        "modelo_v3_random_search_rbf = RandomizedSearchCV(modelo_v3, param_distributions=svm_param_grid, n_iter=5, cv=3, n_jobs=-1)\n",
        "\n",
        "# Treinamento\n",
        "modelo_v3_random_search_rbf.fit(X_treino_scaled, y_treino)\n",
        "end = time.time()\n",
        "\n",
        "# Resultados\n",
        "print('Tempo de Treinamento do Modelo com Randomized Search:', end - start)\n",
        "print(f\"Acurácia em Treinamento: {modelo_v3_random_search_rbf.best_score_ :.2%}\")\n",
        "print(\"\")\n",
        "print(f\"Hiperparâmetros Ideais: {modelo_v3_random_search_rbf.best_params_}\")"
      ]
    },
    {
      "cell_type": "code",
      "execution_count": 63,
      "metadata": {
        "id": "gqGeEx3excAG"
      },
      "outputs": [],
      "source": [
        "# Previsões\n",
        "previsoes_v3 = modelo_v3_random_search_rbf.predict(X_teste_scaled)"
      ]
    },
    {
      "cell_type": "code",
      "execution_count": 64,
      "metadata": {
        "id": "XfSbbMNdxeYi"
      },
      "outputs": [],
      "source": [
        "# Dicionário de métricas e metadados\n",
        "SVM_dict_v3 = {'Modelo':'SVM',\n",
        "               'Versão':'3',\n",
        "               'Kernel':'RBF com Dados Padronizados',\n",
        "               'Precision':precision_score(previsoes_v3, y_teste),\n",
        "               'Recall':recall_score(previsoes_v3, y_teste),\n",
        "               'F1 Score':f1_score(previsoes_v3, y_teste),\n",
        "               'Acurácia':accuracy_score(previsoes_v3, y_teste),\n",
        "               'AUC':roc_auc_score(y_teste, previsoes_v3)}"
      ]
    },
    {
      "cell_type": "code",
      "execution_count": 65,
      "metadata": {
        "colab": {
          "base_uri": "https://localhost:8080/"
        },
        "id": "13ie4d6dxfvB",
        "outputId": "a635f6e6-d11f-425e-adaf-37c8fc5fe367"
      },
      "outputs": [
        {
          "name": "stdout",
          "output_type": "stream",
          "text": [
            "Métricas em Teste:\n",
            "\n"
          ]
        },
        {
          "data": {
            "text/plain": [
              "{'Modelo': 'SVM',\n",
              " 'Versão': '3',\n",
              " 'Kernel': 'RBF com Dados Padronizados',\n",
              " 'Precision': 0.535977535977536,\n",
              " 'Recall': 0.5003372973806449,\n",
              " 'F1 Score': 0.5175445591929503,\n",
              " 'Acurácia': 0.5022011026084094,\n",
              " 'AUC': 0.502325018526777}"
            ]
          },
          "execution_count": 65,
          "metadata": {},
          "output_type": "execute_result"
        }
      ],
      "source": [
        "# Print\n",
        "print(\"Métricas em Teste:\\n\")\n",
        "SVM_dict_v3"
      ]
    },
    {
      "cell_type": "markdown",
      "metadata": {
        "id": "W99HQsdGxign"
      },
      "source": [
        "### Otimização de Hiperparâmetros com RandomizedSearch e Kernel Polinomial"
      ]
    },
    {
      "cell_type": "code",
      "execution_count": 70,
      "metadata": {
        "colab": {
          "base_uri": "https://localhost:8080/"
        },
        "id": "FLW6RDqpxkRn",
        "outputId": "bec34e9e-f400-4584-b114-f2ebb1301875"
      },
      "outputs": [
        {
          "name": "stdout",
          "output_type": "stream",
          "text": [
            "Tempo de Treinamento do Modelo com Randomized Search: 2231.1622326374054\n",
            "Acurácia em Treinamento: 50.17%\n",
            "\n",
            "Hiperparâmetros Ideais: {'gamma': 0.001, 'degree': 3, 'coef0': 0.5}\n"
          ]
        }
      ],
      "source": [
        "# Cria o modelo\n",
        "modelo_v4 = svm.SVC(kernel='poly')\n",
        "\n",
        "# Valores para o grid\n",
        "r_range = np.array([0.5, 1])\n",
        "gamma_range = np.array([0.001, 0.01])\n",
        "d_range = np.array([2, 3, 4])\n",
        "\n",
        "# Grid de hiperparâmetros\n",
        "param_grid_poly = dict(gamma=gamma_range, degree=d_range, coef0=r_range)\n",
        "\n",
        "# Randomized Search\n",
        "start = time.time()\n",
        "modelo_v4_random_search_poly = RandomizedSearchCV(modelo_v4, param_distributions=param_grid_poly, n_iter=3, cv=3, n_jobs=-1)\n",
        "\n",
        "# Treinamento\n",
        "modelo_v4_random_search_poly.fit(X_treino_scaled, y_treino)\n",
        "end = time.time()\n",
        "\n",
        "# Resultados\n",
        "print('Tempo de Treinamento do Modelo com Randomized Search:', end - start)\n",
        "print(f\"Acurácia em Treinamento: {modelo_v4_random_search_poly.best_score_ :.2%}\")\n",
        "print(\"\")\n",
        "print(f\"Hiperparâmetros Ideais: {modelo_v4_random_search_poly.best_params_}\")\n"
      ]
    },
    {
      "cell_type": "code",
      "execution_count": 73,
      "metadata": {
        "id": "IeBZcMfaxk7P"
      },
      "outputs": [],
      "source": [
        "# Previsões\n",
        "previsoes_v4 = modelo_v4_random_search_poly.predict(X_teste_scaled)"
      ]
    },
    {
      "cell_type": "code",
      "execution_count": 74,
      "metadata": {
        "id": "TVhfQZTtxnlV"
      },
      "outputs": [],
      "source": [
        "# Dicionário de métricas e metadados\n",
        "SVM_dict_v4 = {'Modelo':'SVM',\n",
        "               'Versão':'4',\n",
        "               'Kernel':'Polinomial com Dados Padronizados',\n",
        "               'Precision':precision_score(previsoes_v4, y_teste),\n",
        "               'Recall':recall_score(previsoes_v4, y_teste),\n",
        "               'F1 Score':f1_score(previsoes_v4, y_teste),\n",
        "               'Acurácia':accuracy_score(previsoes_v4, y_teste),\n",
        "               'AUC':roc_auc_score(y_teste, previsoes_v4)}"
      ]
    },
    {
      "cell_type": "code",
      "execution_count": 75,
      "metadata": {
        "colab": {
          "base_uri": "https://localhost:8080/"
        },
        "id": "z_ldmpsIxpIC",
        "outputId": "59258dba-7c0e-405a-a908-2e996222e729"
      },
      "outputs": [
        {
          "name": "stdout",
          "output_type": "stream",
          "text": [
            "Métricas em Teste:\n",
            "\n"
          ]
        },
        {
          "data": {
            "text/plain": [
              "{'Modelo': 'SVM',\n",
              " 'Versão': '4',\n",
              " 'Kernel': 'Polinomial com Dados Padronizados',\n",
              " 'Precision': 0.5460120166002519,\n",
              " 'Recall': 0.5009566386936672,\n",
              " 'F1 Score': 0.5225148683092609,\n",
              " 'Acurácia': 0.5028799473381058,\n",
              " 'AUC': 0.5030381863657528}"
            ]
          },
          "execution_count": 75,
          "metadata": {},
          "output_type": "execute_result"
        }
      ],
      "source": [
        "# Print\n",
        "print(\"Métricas em Teste:\\n\")\n",
        "SVM_dict_v4"
      ]
    },
    {
      "cell_type": "code",
      "execution_count": 76,
      "metadata": {
        "id": "rBZeZRP3xqVZ"
      },
      "outputs": [],
      "source": [
        "# Concatena todos os dicionários em um dataframe do Pandas\n",
        "resumo = pd.DataFrame({'SVM_Modelo_1':pd.Series(SVM_dict_v1),\n",
        "                       'SVM_Modelo_2':pd.Series(SVM_dict_v2),\n",
        "                       'SVM_Modelo_3':pd.Series(SVM_dict_v3),\n",
        "                       'SVM_Modelo_4':pd.Series(SVM_dict_v4)})"
      ]
    },
    {
      "cell_type": "code",
      "execution_count": 77,
      "metadata": {
        "colab": {
          "base_uri": "https://localhost:8080/",
          "height": 300
        },
        "id": "qo6EMB2WxsU3",
        "outputId": "96e5c1b4-ea1a-4a46-dc6f-9c196b72c30f"
      },
      "outputs": [
        {
          "data": {
            "text/html": [
              "<div>\n",
              "<style scoped>\n",
              "    .dataframe tbody tr th:only-of-type {\n",
              "        vertical-align: middle;\n",
              "    }\n",
              "\n",
              "    .dataframe tbody tr th {\n",
              "        vertical-align: top;\n",
              "    }\n",
              "\n",
              "    .dataframe thead th {\n",
              "        text-align: right;\n",
              "    }\n",
              "</style>\n",
              "<table border=\"1\" class=\"dataframe\">\n",
              "  <thead>\n",
              "    <tr style=\"text-align: right;\">\n",
              "      <th></th>\n",
              "      <th>SVM_Modelo_1</th>\n",
              "      <th>SVM_Modelo_2</th>\n",
              "      <th>SVM_Modelo_3</th>\n",
              "      <th>SVM_Modelo_4</th>\n",
              "    </tr>\n",
              "  </thead>\n",
              "  <tbody>\n",
              "    <tr>\n",
              "      <th>Modelo</th>\n",
              "      <td>SVM</td>\n",
              "      <td>SVM</td>\n",
              "      <td>SVM</td>\n",
              "      <td>SVM</td>\n",
              "    </tr>\n",
              "    <tr>\n",
              "      <th>Versão</th>\n",
              "      <td>1</td>\n",
              "      <td>2</td>\n",
              "      <td>3</td>\n",
              "      <td>4</td>\n",
              "    </tr>\n",
              "    <tr>\n",
              "      <th>Kernel</th>\n",
              "      <td>Linear</td>\n",
              "      <td>Linear com Dados Padronizados</td>\n",
              "      <td>RBF com Dados Padronizados</td>\n",
              "      <td>Polinomial com Dados Padronizados</td>\n",
              "    </tr>\n",
              "    <tr>\n",
              "      <th>Precision</th>\n",
              "      <td>0.516611</td>\n",
              "      <td>0.516652</td>\n",
              "      <td>0.535978</td>\n",
              "      <td>0.546012</td>\n",
              "    </tr>\n",
              "    <tr>\n",
              "      <th>Recall</th>\n",
              "      <td>0.49995</td>\n",
              "      <td>0.49994</td>\n",
              "      <td>0.500337</td>\n",
              "      <td>0.500957</td>\n",
              "    </tr>\n",
              "    <tr>\n",
              "      <th>F1 Score</th>\n",
              "      <td>0.508144</td>\n",
              "      <td>0.508159</td>\n",
              "      <td>0.517545</td>\n",
              "      <td>0.522515</td>\n",
              "    </tr>\n",
              "    <tr>\n",
              "      <th>Acurácia</th>\n",
              "      <td>0.50179</td>\n",
              "      <td>0.501779</td>\n",
              "      <td>0.502201</td>\n",
              "      <td>0.50288</td>\n",
              "    </tr>\n",
              "    <tr>\n",
              "      <th>AUC</th>\n",
              "      <td>0.501844</td>\n",
              "      <td>0.501834</td>\n",
              "      <td>0.502325</td>\n",
              "      <td>0.503038</td>\n",
              "    </tr>\n",
              "  </tbody>\n",
              "</table>\n",
              "</div>"
            ],
            "text/plain": [
              "          SVM_Modelo_1                   SVM_Modelo_2  \\\n",
              "Modelo             SVM                            SVM   \n",
              "Versão               1                              2   \n",
              "Kernel          Linear  Linear com Dados Padronizados   \n",
              "Precision     0.516611                       0.516652   \n",
              "Recall         0.49995                        0.49994   \n",
              "F1 Score      0.508144                       0.508159   \n",
              "Acurácia       0.50179                       0.501779   \n",
              "AUC           0.501844                       0.501834   \n",
              "\n",
              "                         SVM_Modelo_3                       SVM_Modelo_4  \n",
              "Modelo                            SVM                                SVM  \n",
              "Versão                              3                                  4  \n",
              "Kernel     RBF com Dados Padronizados  Polinomial com Dados Padronizados  \n",
              "Precision                    0.535978                           0.546012  \n",
              "Recall                       0.500337                           0.500957  \n",
              "F1 Score                     0.517545                           0.522515  \n",
              "Acurácia                     0.502201                            0.50288  \n",
              "AUC                          0.502325                           0.503038  "
            ]
          },
          "execution_count": 77,
          "metadata": {},
          "output_type": "execute_result"
        }
      ],
      "source": [
        "# Print\n",
        "resumo"
      ]
    },
    {
      "cell_type": "markdown",
      "metadata": {},
      "source": [
        "Para melhor visualização iremos avaliar os resultados em gráficos"
      ]
    },
    {
      "cell_type": "code",
      "execution_count": 106,
      "metadata": {},
      "outputs": [
        {
          "data": {
            "image/png": "[encoded data removed]",
            "text/plain": [
              "<Figure size 1400x1800 with 5 Axes>"
            ]
          },
          "metadata": {},
          "output_type": "display_data"
        }
      ],
      "source": [
        "# Ignorando avisos futuros\n",
        "warnings.filterwarnings('ignore', category=FutureWarning)\n",
        "\n",
        "# Dados das métricas\n",
        "data = {\n",
        "    'Modelo': ['SVM', 'SVM', 'SVM', 'SVM'],\n",
        "    'Versao': ['1', '2', '3', '4'],\n",
        "    'Kernel': ['Linear', 'Linear com Dados Padronizados', 'RBF com Dados Padronizados', 'Polinomial com Dados Padronizados'],\n",
        "    'Precision': [0.516611, 0.516652, 0.535978, 0.546012],\n",
        "    'Recall': [0.49995, 0.49994, 0.500337, 0.500957],\n",
        "    'F1 Score': [0.508144, 0.508159, 0.517545, 0.522515],\n",
        "    'Acuracia': [0.50179, 0.501779, 0.502201, 0.50288],\n",
        "    'AUC': [0.501844, 0.501834, 0.502325, 0.503038]\n",
        "}\n",
        "\n",
        "# Convertendo os dados em um DataFrame\n",
        "df_SVM = pd.DataFrame(data)\n",
        "\n",
        "# Configurando o estilo do seaborn\n",
        "sns.set(style=\"whitegrid\")\n",
        "\n",
        "# Definindo a paleta de cores\n",
        "palette = sns.color_palette(\"husl\", len(df_SVM['Versao'].unique()))\n",
        "\n",
        "# Criando gráficos de barras para cada métrica\n",
        "metrics = ['Precision', 'Recall', 'F1 Score', 'Acuracia', 'AUC']\n",
        "fig, axes = plt.subplots(3, 2, figsize=(14, 18))\n",
        "\n",
        "for i, metric in enumerate(metrics):\n",
        "    ax = axes[i//2, i%2]\n",
        "    sns.barplot(x='Versao', y=metric, hue='Versao', data=df_SVM, ax=ax, palette=palette, dodge=False, legend=False)\n",
        "    ax.set_title(f'Comparação de {metric} entre Versões')\n",
        "    ax.set_ylim(0, 1)  \n",
        "    \n",
        "# Remover o gráfico vazio\n",
        "fig.delaxes(axes[2, 1])\n",
        "\n",
        "# Ajustar layout\n",
        "plt.tight_layout()\n",
        "\n",
        "# Mostrar os gráficos\n",
        "plt.show()\n"
      ]
    },
    {
      "cell_type": "markdown",
      "metadata": {},
      "source": [
        "Observações\n",
        "\n",
        "Precision: A precisão do modelo aumenta gradualmente com o aumento da versão do modelo SVM. O modelo SVM com kernel polinomial e dados padronizados (Versão 4) apresenta a maior precisão, com um valor de 0.546.\n",
        "\n",
        "Recall: O recall se mantém relativamente estável ao longo das diferentes versões do modelo SVM, com variações muito pequenas entre elas. Todos os modelos têm valores de recall próximos de 0.5, indicando uma proporção semelhante de verdadeiros positivos detectados em relação ao total de verdadeiros positivos.\n",
        "\n",
        "F1 Score: O F1 Score, que é uma medida que combina precisão e recall, também aumenta gradualmente com o aumento da versão do modelo SVM. Assim como na precisão, o modelo SVM com kernel polinomial e dados padronizados (Versão 4) alcança o maior F1 Score, com um valor de 0.523.\n",
        "\n",
        "Acurácia: A acurácia se mantém relativamente estável ao longo das diferentes versões do modelo SVM, com variações muito pequenas entre elas. Todos os modelos têm valores de acurácia próximos de 0.5, o que sugere uma capacidade semelhante de classificação correta das instâncias em relação ao total de instâncias.\n",
        "\n",
        "AUC: A área sob a curva ROC (AUC) também aumenta gradualmente com o aumento da versão do modelo SVM. O modelo SVM com kernel polinomial e dados padronizados (Versão 4) apresenta a maior AUC, com um valor de 0.503.\n",
        "\n",
        "Em resumo, podemos observar melhorias graduais nas métricas de desempenho à medida que a versão do modelo SVM aumenta, com o modelo SVM com kernel polinomial e dados padronizados apresentando o melhor desempenho geral. No entanto, as melhorias são bastante sutis, especialmente em métricas como recall e acurácia."
      ]
    },
    {
      "cell_type": "markdown",
      "metadata": {},
      "source": [
        "# Modelo XgBoost"
      ]
    },
    {
      "cell_type": "markdown",
      "metadata": {},
      "source": [
        "Iremos refazer algumas partes das definições para que não haja conflito entre os modelos"
      ]
    },
    {
      "cell_type": "code",
      "execution_count": 49,
      "metadata": {},
      "outputs": [
        {
          "data": {
            "text/plain": [
              "(202404, 14)"
            ]
          },
          "execution_count": 49,
          "metadata": {},
          "output_type": "execute_result"
        }
      ],
      "source": [
        "# Shape dos dados originais\n",
        "df.shape"
      ]
    },
    {
      "cell_type": "code",
      "execution_count": 50,
      "metadata": {},
      "outputs": [
        {
          "name": "stdout",
          "output_type": "stream",
          "text": [
            "Valores NaN antes do tratamento:\n",
            "0\n",
            "Valores NaN depois do tratamento:\n",
            "0\n",
            "Antes do balanceamento:\n",
            "Churn\n",
            "0    162040\n",
            "1     40364\n",
            "Name: count, dtype: int64\n",
            "Depois do balanceamento:\n",
            "Churn\n",
            "0    162040\n",
            "1    162040\n",
            "Name: count, dtype: int64\n"
          ]
        }
      ],
      "source": [
        "# Seed\n",
        "seed = 1000\n",
        "\n",
        "# Verifica se há valores NaN na coluna 'Churn'\n",
        "print(\"Valores NaN antes do tratamento:\")\n",
        "print(df['Churn'].isna().sum())\n",
        "\n",
        "# Trata os valores NaN (removendo as linhas com NaN na coluna 'Churn')\n",
        "df = df.dropna(subset=['Churn'])\n",
        "\n",
        "# Verifica novamente para garantir que os valores NaN foram removidos\n",
        "print(\"Valores NaN depois do tratamento:\")\n",
        "print(df['Churn'].isna().sum())\n",
        "\n",
        "# Dividindo os dados em características (X) e alvo (y)\n",
        "df['Purchase Date'] = pd.to_datetime(df['Purchase Date'])\n",
        "df['Purchase Year'] = df['Purchase Date'].dt.year\n",
        "df['Purchase Month'] = df['Purchase Date'].dt.month\n",
        "df['Purchase Day'] = df['Purchase Date'].dt.day\n",
        "df['Purchase Hour'] = df['Purchase Date'].dt.hour\n",
        "\n",
        "# Removendo a coluna original de data e outras que não são necessárias\n",
        "X = df.drop(['Churn', 'Purchase Date'], axis=1)\n",
        "y = df['Churn']\n",
        "\n",
        "# Seleciona apenas as colunas numéricas para X\n",
        "numeric_features = X.select_dtypes(include=['int64', 'float64']).columns\n",
        "X_numeric = X[numeric_features]\n",
        "\n",
        "# Cria o pré-processador para padronizar os dados\n",
        "preprocessor = ColumnTransformer(transformers=[('num', StandardScaler(), numeric_features)])\n",
        "\n",
        "# Cria o pipeline com pré-processador e balanceador SMOTE\n",
        "pipeline = Pipeline(steps=[('preprocessor', preprocessor),\n",
        "                           ('smote', SMOTE(random_state=seed))])\n",
        "\n",
        "# Aplica o pipeline\n",
        "X_res, y_res = pipeline.fit_resample(X_numeric, y)\n",
        "\n",
        "print(f\"Antes do balanceamento:\\n{y.value_counts()}\")\n",
        "print(f\"Depois do balanceamento:\\n{y_res.value_counts()}\")\n"
      ]
    },
    {
      "cell_type": "code",
      "execution_count": 51,
      "metadata": {},
      "outputs": [
        {
          "data": {
            "text/html": [
              "<div>\n",
              "<style scoped>\n",
              "    .dataframe tbody tr th:only-of-type {\n",
              "        vertical-align: middle;\n",
              "    }\n",
              "\n",
              "    .dataframe tbody tr th {\n",
              "        vertical-align: top;\n",
              "    }\n",
              "\n",
              "    .dataframe thead th {\n",
              "        text-align: right;\n",
              "    }\n",
              "</style>\n",
              "<table border=\"1\" class=\"dataframe\">\n",
              "  <thead>\n",
              "    <tr style=\"text-align: right;\">\n",
              "      <th></th>\n",
              "      <th>Purchase Date</th>\n",
              "      <th>Product Category</th>\n",
              "      <th>Product Price</th>\n",
              "      <th>Quantity</th>\n",
              "      <th>Total Purchase Amount</th>\n",
              "      <th>Payment Method</th>\n",
              "      <th>Returns</th>\n",
              "      <th>Age</th>\n",
              "      <th>Gender</th>\n",
              "      <th>Churn</th>\n",
              "      <th>Purchase Year</th>\n",
              "      <th>Purchase Month</th>\n",
              "      <th>Purchase Day</th>\n",
              "      <th>Purchase Hour</th>\n",
              "    </tr>\n",
              "  </thead>\n",
              "  <tbody>\n",
              "    <tr>\n",
              "      <th>0</th>\n",
              "      <td>2020-09-08 09:38:32</td>\n",
              "      <td>2</td>\n",
              "      <td>12</td>\n",
              "      <td>3</td>\n",
              "      <td>740</td>\n",
              "      <td>1</td>\n",
              "      <td>0</td>\n",
              "      <td>37</td>\n",
              "      <td>1</td>\n",
              "      <td>0</td>\n",
              "      <td>2020</td>\n",
              "      <td>9</td>\n",
              "      <td>8</td>\n",
              "      <td>9</td>\n",
              "    </tr>\n",
              "    <tr>\n",
              "      <th>1</th>\n",
              "      <td>2022-03-05 12:56:35</td>\n",
              "      <td>3</td>\n",
              "      <td>468</td>\n",
              "      <td>4</td>\n",
              "      <td>2739</td>\n",
              "      <td>3</td>\n",
              "      <td>0</td>\n",
              "      <td>37</td>\n",
              "      <td>1</td>\n",
              "      <td>0</td>\n",
              "      <td>2022</td>\n",
              "      <td>3</td>\n",
              "      <td>5</td>\n",
              "      <td>12</td>\n",
              "    </tr>\n",
              "    <tr>\n",
              "      <th>2</th>\n",
              "      <td>2022-05-23 18:18:01</td>\n",
              "      <td>3</td>\n",
              "      <td>288</td>\n",
              "      <td>2</td>\n",
              "      <td>3196</td>\n",
              "      <td>3</td>\n",
              "      <td>0</td>\n",
              "      <td>37</td>\n",
              "      <td>1</td>\n",
              "      <td>0</td>\n",
              "      <td>2022</td>\n",
              "      <td>5</td>\n",
              "      <td>23</td>\n",
              "      <td>18</td>\n",
              "    </tr>\n",
              "    <tr>\n",
              "      <th>3</th>\n",
              "      <td>2020-11-12 13:13:29</td>\n",
              "      <td>1</td>\n",
              "      <td>196</td>\n",
              "      <td>1</td>\n",
              "      <td>3509</td>\n",
              "      <td>3</td>\n",
              "      <td>0</td>\n",
              "      <td>37</td>\n",
              "      <td>1</td>\n",
              "      <td>0</td>\n",
              "      <td>2020</td>\n",
              "      <td>11</td>\n",
              "      <td>12</td>\n",
              "      <td>13</td>\n",
              "    </tr>\n",
              "    <tr>\n",
              "      <th>4</th>\n",
              "      <td>2020-11-27 17:55:11</td>\n",
              "      <td>3</td>\n",
              "      <td>449</td>\n",
              "      <td>1</td>\n",
              "      <td>3452</td>\n",
              "      <td>1</td>\n",
              "      <td>0</td>\n",
              "      <td>49</td>\n",
              "      <td>0</td>\n",
              "      <td>1</td>\n",
              "      <td>2020</td>\n",
              "      <td>11</td>\n",
              "      <td>27</td>\n",
              "      <td>17</td>\n",
              "    </tr>\n",
              "  </tbody>\n",
              "</table>\n",
              "</div>"
            ],
            "text/plain": [
              "        Purchase Date  Product Category  Product Price  Quantity  \\\n",
              "0 2020-09-08 09:38:32                 2             12         3   \n",
              "1 2022-03-05 12:56:35                 3            468         4   \n",
              "2 2022-05-23 18:18:01                 3            288         2   \n",
              "3 2020-11-12 13:13:29                 1            196         1   \n",
              "4 2020-11-27 17:55:11                 3            449         1   \n",
              "\n",
              "   Total Purchase Amount  Payment Method  Returns  Age  Gender  Churn  \\\n",
              "0                    740               1        0   37       1      0   \n",
              "1                   2739               3        0   37       1      0   \n",
              "2                   3196               3        0   37       1      0   \n",
              "3                   3509               3        0   37       1      0   \n",
              "4                   3452               1        0   49       0      1   \n",
              "\n",
              "   Purchase Year  Purchase Month  Purchase Day  Purchase Hour  \n",
              "0           2020               9             8              9  \n",
              "1           2022               3             5             12  \n",
              "2           2022               5            23             18  \n",
              "3           2020              11            12             13  \n",
              "4           2020              11            27             17  "
            ]
          },
          "execution_count": 51,
          "metadata": {},
          "output_type": "execute_result"
        }
      ],
      "source": [
        "df.head()"
      ]
    },
    {
      "cell_type": "code",
      "execution_count": 52,
      "metadata": {},
      "outputs": [
        {
          "data": {
            "text/plain": [
              "(324080,)"
            ]
          },
          "execution_count": 52,
          "metadata": {},
          "output_type": "execute_result"
        }
      ],
      "source": [
        "# Shape dos dados reamostrados\n",
        "y_res.shape"
      ]
    },
    {
      "cell_type": "code",
      "execution_count": 53,
      "metadata": {},
      "outputs": [],
      "source": [
        "# Ajustando X e y para utilizar apenas 1000 observações\n",
        "X = X_res\n",
        "y = y_res\n",
        "\n"
      ]
    },
    {
      "cell_type": "code",
      "execution_count": 54,
      "metadata": {},
      "outputs": [],
      "source": [
        "# Divisão em Dados de Treino e Teste.\n",
        "X_treino, X_teste, y_treino, y_teste = train_test_split(X, y, test_size = 0.3, random_state = 42)"
      ]
    },
    {
      "cell_type": "markdown",
      "metadata": {},
      "source": [
        "Modelo Base"
      ]
    },
    {
      "cell_type": "code",
      "execution_count": 70,
      "metadata": {},
      "outputs": [],
      "source": [
        "# Cria o modelo\n",
        "modelo_v5 = xgb.XGBClassifier(use_label_encoder=False, eval_metric='mlogloss')"
      ]
    },
    {
      "cell_type": "code",
      "execution_count": 71,
      "metadata": {},
      "outputs": [
        {
          "name": "stdout",
          "output_type": "stream",
          "text": [
            "Tempo de Treinamento do Modelo: 0.3755767345428467\n"
          ]
        }
      ],
      "source": [
        "# Treinamento\n",
        "start = time.time()\n",
        "modelo_v5.fit(X_treino, y_treino)\n",
        "end = time.time()\n",
        "print('Tempo de Treinamento do Modelo:', end - start)"
      ]
    },
    {
      "cell_type": "code",
      "execution_count": 72,
      "metadata": {},
      "outputs": [],
      "source": [
        "# Previsões\n",
        "previsoes_v5 = modelo_v5.predict(X_teste)"
      ]
    },
    {
      "cell_type": "code",
      "execution_count": 74,
      "metadata": {},
      "outputs": [
        {
          "name": "stdout",
          "output_type": "stream",
          "text": [
            "Métricas em Teste:\n",
            "\n"
          ]
        },
        {
          "data": {
            "text/plain": [
              "{'Modelo': 'XGBOOST',\n",
              " 'Versão': '5',\n",
              " 'Precision': 0.8190911336132378,\n",
              " 'Recall': 0.41085623438564617,\n",
              " 'F1 Score': 0.5472245520920703,\n",
              " 'Acurácia': 0.6613079075125483,\n",
              " 'AUC': 0.6603890731068236}"
            ]
          },
          "execution_count": 74,
          "metadata": {},
          "output_type": "execute_result"
        }
      ],
      "source": [
        "# Dicionário de métricas e metadados\n",
        "XGBOOST_dict_v5 = {\n",
        "    'Modelo': 'XGBOOST',\n",
        "    'Versão': '5',\n",
        "    'Precision': precision_score(y_teste, previsoes_v5),\n",
        "    'Recall': recall_score(y_teste, previsoes_v5),\n",
        "    'F1 Score': f1_score(y_teste, previsoes_v5),\n",
        "    'Acurácia': accuracy_score(y_teste, previsoes_v5),\n",
        "    'AUC': roc_auc_score(y_teste, previsoes_v5)\n",
        "}\n",
        "# Print\n",
        "print(\"Métricas em Teste:\\n\")\n",
        "XGBOOST_dict_v5"
      ]
    },
    {
      "cell_type": "markdown",
      "metadata": {},
      "source": [
        "Modelo Base com dados Padronizados"
      ]
    },
    {
      "cell_type": "code",
      "execution_count": 75,
      "metadata": {},
      "outputs": [],
      "source": [
        "# Padronização\n",
        "sc = StandardScaler()\n",
        "X_treino_scaled = sc.fit_transform(X_treino)\n",
        "X_teste_scaled = sc.transform(X_teste)"
      ]
    },
    {
      "cell_type": "code",
      "execution_count": 76,
      "metadata": {},
      "outputs": [
        {
          "data": {
            "text/plain": [
              "array([[-1.20960761e+00,  9.43104033e-04,  2.76112514e-01,\n",
              "         3.97349295e-01],\n",
              "       [-1.43564840e+00, -1.41126025e+00, -1.41534836e+00,\n",
              "         5.27448364e-01],\n",
              "       [-1.15963865e+00,  1.41314646e+00,  6.91644897e-01,\n",
              "        -6.92020667e-03],\n",
              "       ...,\n",
              "       [-9.27056609e-01,  7.07044782e-01, -1.33063644e+00,\n",
              "        -5.79974480e-02],\n",
              "       [-2.63061764e-01,  9.43104033e-04, -1.58268911e+00,\n",
              "        -1.35898814e+00],\n",
              "       [ 3.86805530e-01,  7.07044782e-01, -1.62296199e+00,\n",
              "         9.82795106e-01]])"
            ]
          },
          "execution_count": 76,
          "metadata": {},
          "output_type": "execute_result"
        }
      ],
      "source": [
        "X_treino_scaled"
      ]
    },
    {
      "cell_type": "code",
      "execution_count": 77,
      "metadata": {},
      "outputs": [
        {
          "data": {
            "text/plain": [
              "array([[-1.85360240e-01,  9.43104033e-04,  1.13711887e+00,\n",
              "         1.37309231e+00],\n",
              "       [-4.18464813e-01,  9.43104033e-04,  1.28571190e+00,\n",
              "         2.67250225e-01],\n",
              "       [ 8.24759577e-01,  1.41314646e+00,  5.83019618e-01,\n",
              "        -1.88096517e-01],\n",
              "       ...,\n",
              "       [ 1.20620342e+00, -1.41126025e+00,  7.30223930e-01,\n",
              "        -3.83245121e-01],\n",
              "       [-9.97694358e-01, -7.05158574e-01,  1.14683991e+00,\n",
              "        -1.68423581e+00],\n",
              "       [-1.33675556e+00, -7.05158574e-01, -1.52783467e+00,\n",
              "        -1.35898814e+00]])"
            ]
          },
          "execution_count": 77,
          "metadata": {},
          "output_type": "execute_result"
        }
      ],
      "source": [
        "X_teste_scaled"
      ]
    },
    {
      "cell_type": "code",
      "execution_count": 78,
      "metadata": {},
      "outputs": [],
      "source": [
        "# Cria o modelo\n",
        "modelo_v6 = xgb.XGBClassifier(use_label_encoder=False, eval_metric='mlogloss')"
      ]
    },
    {
      "cell_type": "code",
      "execution_count": 79,
      "metadata": {},
      "outputs": [
        {
          "name": "stdout",
          "output_type": "stream",
          "text": [
            "Tempo de Treinamento do Modelo: 0.5597107410430908\n"
          ]
        }
      ],
      "source": [
        "# Treinamento\n",
        "start = time.time()\n",
        "modelo_v6.fit(X_treino_scaled, y_treino)\n",
        "end = time.time()\n",
        "print('Tempo de Treinamento do Modelo:', end - start)"
      ]
    },
    {
      "cell_type": "code",
      "execution_count": 81,
      "metadata": {},
      "outputs": [],
      "source": [
        "# Previsões\n",
        "previsoes_v6 = modelo_v6.predict(X_teste_scaled)"
      ]
    },
    {
      "cell_type": "code",
      "execution_count": 83,
      "metadata": {},
      "outputs": [
        {
          "name": "stdout",
          "output_type": "stream",
          "text": [
            "Métricas em Teste:\n",
            "\n"
          ]
        },
        {
          "data": {
            "text/plain": [
              "{'Modelo': 'XGBOOST',\n",
              " 'Versão': '6',\n",
              " 'Precision': 0.8190911336132378,\n",
              " 'Recall': 0.41085623438564617,\n",
              " 'F1 Score': 0.5472245520920703,\n",
              " 'Acurácia': 0.6613079075125483,\n",
              " 'AUC': 0.6603890731068236}"
            ]
          },
          "execution_count": 83,
          "metadata": {},
          "output_type": "execute_result"
        }
      ],
      "source": [
        "# Dicionário de métricas e metadados\n",
        "XGBOOST_dict_v6 = {\n",
        "    'Modelo': 'XGBOOST',\n",
        "    'Versão': '6',\n",
        "    'Precision': precision_score(y_teste, previsoes_v6),\n",
        "    'Recall': recall_score(y_teste, previsoes_v6),\n",
        "    'F1 Score': f1_score(y_teste, previsoes_v6),\n",
        "    'Acurácia': accuracy_score(y_teste, previsoes_v6),\n",
        "    'AUC': roc_auc_score(y_teste, previsoes_v6)\n",
        "}\n",
        "# Print\n",
        "print(\"Métricas em Teste:\\n\")\n",
        "XGBOOST_dict_v6"
      ]
    },
    {
      "cell_type": "markdown",
      "metadata": {},
      "source": [
        "Otimização de Hiperparâmetros com GridSearch"
      ]
    },
    {
      "cell_type": "code",
      "execution_count": 85,
      "metadata": {},
      "outputs": [
        {
          "name": "stdout",
          "output_type": "stream",
          "text": [
            "Tempo de Treinamento do Modelo com Grid Search: 77.84484696388245\n",
            "Acurácia em Treinamento: 66.34%\n",
            "\n",
            "Hiperparâmetros Ideais: {'colsample_bytree': 1.0, 'learning_rate': 0.2, 'max_depth': 5, 'n_estimators': 200, 'subsample': 0.8}\n"
          ]
        }
      ],
      "source": [
        "# Cria o modelo\n",
        "modelo_v7 = xgb.XGBClassifier(use_label_encoder=False, eval_metric='mlogloss')\n",
        "\n",
        "# Valores para o grid\n",
        "learning_rate_range = np.array([0.01, 0.1, 0.2])\n",
        "max_depth_range = np.array([3, 4, 5])\n",
        "n_estimators_range = np.array([50, 100, 200])\n",
        "subsample_range = np.array([0.8, 1.0])\n",
        "colsample_bytree_range = np.array([0.8, 1.0])\n",
        "\n",
        "# Grid de hiperparâmetros\n",
        "param_grid_xgb = {\n",
        "    'learning_rate': learning_rate_range,\n",
        "    'max_depth': max_depth_range,\n",
        "    'n_estimators': n_estimators_range,\n",
        "    'subsample': subsample_range,\n",
        "    'colsample_bytree': colsample_bytree_range\n",
        "}\n",
        "\n",
        "# Grid Search\n",
        "start = time.time()\n",
        "modelo_v7_grid_search_xgb = GridSearchCV(\n",
        "    modelo_v7, param_grid=param_grid_xgb, cv=3, n_jobs=-1\n",
        ")\n",
        "\n",
        "# Treinamento\n",
        "modelo_v7_grid_search_xgb.fit(X_treino_scaled, y_treino)\n",
        "end = time.time()\n",
        "\n",
        "# Resultados\n",
        "print('Tempo de Treinamento do Modelo com Grid Search:', end - start)\n",
        "print(f\"Acurácia em Treinamento: {modelo_v7_grid_search_xgb.best_score_ :.2%}\")\n",
        "print(\"\")\n",
        "print(f\"Hiperparâmetros Ideais: {modelo_v7_grid_search_xgb.best_params_}\")"
      ]
    },
    {
      "cell_type": "code",
      "execution_count": 86,
      "metadata": {},
      "outputs": [],
      "source": [
        "# Previsões\n",
        "previsoes_v7 = modelo_v7_grid_search_xgb.predict(X_teste_scaled)"
      ]
    },
    {
      "cell_type": "code",
      "execution_count": 87,
      "metadata": {},
      "outputs": [
        {
          "name": "stdout",
          "output_type": "stream",
          "text": [
            "Métricas em Teste:\n",
            "\n"
          ]
        },
        {
          "data": {
            "text/plain": [
              "{'Modelo': 'XGBOOST',\n",
              " 'Versão': '7',\n",
              " 'Precision': 0.8386663683150593,\n",
              " 'Recall': 0.3869262692792105,\n",
              " 'F1 Score': 0.5295430783576818,\n",
              " 'Acurácia': 0.6575125483419731,\n",
              " 'AUC': 0.6565198459183247}"
            ]
          },
          "execution_count": 87,
          "metadata": {},
          "output_type": "execute_result"
        }
      ],
      "source": [
        "# Dicionário de métricas e metadados\n",
        "XGBOOST_dict_v7 = {\n",
        "    'Modelo': 'XGBOOST',\n",
        "    'Versão': '7',\n",
        "    'Precision': precision_score(y_teste, previsoes_v7),\n",
        "    'Recall': recall_score(y_teste, previsoes_v7),\n",
        "    'F1 Score': f1_score(y_teste, previsoes_v7),\n",
        "    'Acurácia': accuracy_score(y_teste, previsoes_v7),\n",
        "    'AUC': roc_auc_score(y_teste, previsoes_v7)\n",
        "}\n",
        "\n",
        "# Print\n",
        "print(\"Métricas em Teste:\\n\")\n",
        "XGBOOST_dict_v7"
      ]
    },
    {
      "cell_type": "markdown",
      "metadata": {},
      "source": [
        "Otimização com o GridSearch com os melhores Hiperparametros"
      ]
    },
    {
      "cell_type": "code",
      "execution_count": 88,
      "metadata": {},
      "outputs": [
        {
          "name": "stdout",
          "output_type": "stream",
          "text": [
            "Tempo de Treinamento do Modelo: 1.0020992755889893\n"
          ]
        }
      ],
      "source": [
        "# Cria o modelo com os hiperparâmetros ideais\n",
        "modelo_v8 = xgb.XGBClassifier(\n",
        "    use_label_encoder=False,\n",
        "    eval_metric='mlogloss',\n",
        "    colsample_bytree=1.0,\n",
        "    learning_rate=0.2,\n",
        "    max_depth=5,\n",
        "    n_estimators=200,\n",
        "    subsample=0.8\n",
        ")\n",
        "\n",
        "# Treinamento\n",
        "start = time.time()\n",
        "modelo_v8.fit(X_treino_scaled, y_treino)\n",
        "end = time.time()\n",
        "print('Tempo de Treinamento do Modelo:', end - start)"
      ]
    },
    {
      "cell_type": "code",
      "execution_count": 89,
      "metadata": {},
      "outputs": [],
      "source": [
        "# Previsões\n",
        "previsoes_v8 = modelo_v8.predict(X_teste_scaled)"
      ]
    },
    {
      "cell_type": "code",
      "execution_count": 90,
      "metadata": {},
      "outputs": [
        {
          "name": "stdout",
          "output_type": "stream",
          "text": [
            "Métricas em Teste:\n",
            "\n"
          ]
        },
        {
          "data": {
            "text/plain": [
              "{'Modelo': 'XGBOOST',\n",
              " 'Versão': '8',\n",
              " 'Precision': 0.8386663683150593,\n",
              " 'Recall': 0.3869262692792105,\n",
              " 'F1 Score': 0.5295430783576818,\n",
              " 'Acurácia': 0.6575125483419731,\n",
              " 'AUC': 0.6565198459183247}"
            ]
          },
          "execution_count": 90,
          "metadata": {},
          "output_type": "execute_result"
        }
      ],
      "source": [
        "# Dicionário de métricas e metadados\n",
        "XGBOOST_dict_v8 = {\n",
        "    'Modelo': 'XGBOOST',\n",
        "    'Versão': '8',\n",
        "    'Precision': precision_score(y_teste, previsoes_v8),\n",
        "    'Recall': recall_score(y_teste, previsoes_v8),\n",
        "    'F1 Score': f1_score(y_teste, previsoes_v8),\n",
        "    'Acurácia': accuracy_score(y_teste, previsoes_v8),\n",
        "    'AUC': roc_auc_score(y_teste, previsoes_v8)\n",
        "}\n",
        "\n",
        "# Print\n",
        "print(\"Métricas em Teste:\\n\")\n",
        "XGBOOST_dict_v8"
      ]
    },
    {
      "cell_type": "code",
      "execution_count": 91,
      "metadata": {},
      "outputs": [],
      "source": [
        "# Concatena todos os dicionários em um dataframe do Pandas\n",
        "resumo = pd.DataFrame({'XGBOOST_Modelo_5':pd.Series(XGBOOST_dict_v5),\n",
        "                       'XGBOOST_Modelo_6':pd.Series(XGBOOST_dict_v6),\n",
        "                       'XGBOOST_Modelo_7':pd.Series(XGBOOST_dict_v7),\n",
        "                       'XGBOOST_Modelo_8':pd.Series(XGBOOST_dict_v8)})"
      ]
    },
    {
      "cell_type": "code",
      "execution_count": 92,
      "metadata": {},
      "outputs": [
        {
          "data": {
            "text/html": [
              "<div>\n",
              "<style scoped>\n",
              "    .dataframe tbody tr th:only-of-type {\n",
              "        vertical-align: middle;\n",
              "    }\n",
              "\n",
              "    .dataframe tbody tr th {\n",
              "        vertical-align: top;\n",
              "    }\n",
              "\n",
              "    .dataframe thead th {\n",
              "        text-align: right;\n",
              "    }\n",
              "</style>\n",
              "<table border=\"1\" class=\"dataframe\">\n",
              "  <thead>\n",
              "    <tr style=\"text-align: right;\">\n",
              "      <th></th>\n",
              "      <th>XGBOOST_Modelo_5</th>\n",
              "      <th>XGBOOST_Modelo_6</th>\n",
              "      <th>XGBOOST_Modelo_7</th>\n",
              "      <th>XGBOOST_Modelo_8</th>\n",
              "    </tr>\n",
              "  </thead>\n",
              "  <tbody>\n",
              "    <tr>\n",
              "      <th>Modelo</th>\n",
              "      <td>XGBOOST</td>\n",
              "      <td>XGBOOST</td>\n",
              "      <td>XGBOOST</td>\n",
              "      <td>XGBOOST</td>\n",
              "    </tr>\n",
              "    <tr>\n",
              "      <th>Versão</th>\n",
              "      <td>5</td>\n",
              "      <td>6</td>\n",
              "      <td>7</td>\n",
              "      <td>8</td>\n",
              "    </tr>\n",
              "    <tr>\n",
              "      <th>Precision</th>\n",
              "      <td>0.819091</td>\n",
              "      <td>0.819091</td>\n",
              "      <td>0.838666</td>\n",
              "      <td>0.838666</td>\n",
              "    </tr>\n",
              "    <tr>\n",
              "      <th>Recall</th>\n",
              "      <td>0.410856</td>\n",
              "      <td>0.410856</td>\n",
              "      <td>0.386926</td>\n",
              "      <td>0.386926</td>\n",
              "    </tr>\n",
              "    <tr>\n",
              "      <th>F1 Score</th>\n",
              "      <td>0.547225</td>\n",
              "      <td>0.547225</td>\n",
              "      <td>0.529543</td>\n",
              "      <td>0.529543</td>\n",
              "    </tr>\n",
              "    <tr>\n",
              "      <th>Acurácia</th>\n",
              "      <td>0.661308</td>\n",
              "      <td>0.661308</td>\n",
              "      <td>0.657513</td>\n",
              "      <td>0.657513</td>\n",
              "    </tr>\n",
              "    <tr>\n",
              "      <th>AUC</th>\n",
              "      <td>0.660389</td>\n",
              "      <td>0.660389</td>\n",
              "      <td>0.65652</td>\n",
              "      <td>0.65652</td>\n",
              "    </tr>\n",
              "  </tbody>\n",
              "</table>\n",
              "</div>"
            ],
            "text/plain": [
              "          XGBOOST_Modelo_5 XGBOOST_Modelo_6 XGBOOST_Modelo_7 XGBOOST_Modelo_8\n",
              "Modelo             XGBOOST          XGBOOST          XGBOOST          XGBOOST\n",
              "Versão                   5                6                7                8\n",
              "Precision         0.819091         0.819091         0.838666         0.838666\n",
              "Recall            0.410856         0.410856         0.386926         0.386926\n",
              "F1 Score          0.547225         0.547225         0.529543         0.529543\n",
              "Acurácia          0.661308         0.661308         0.657513         0.657513\n",
              "AUC               0.660389         0.660389          0.65652          0.65652"
            ]
          },
          "execution_count": 92,
          "metadata": {},
          "output_type": "execute_result"
        }
      ],
      "source": [
        "# Print\n",
        "resumo"
      ]
    },
    {
      "cell_type": "markdown",
      "metadata": {},
      "source": [
        "Visualização em Gráfico para um melhor entendimento"
      ]
    },
    {
      "cell_type": "code",
      "execution_count": 104,
      "metadata": {},
      "outputs": [
        {
          "data": {
            "image/png": "[encoded data removed]",
            "text/plain": [
              "<Figure size 1400x1800 with 5 Axes>"
            ]
          },
          "metadata": {},
          "output_type": "display_data"
        }
      ],
      "source": [
        "# Ignorando avisos futuros\n",
        "warnings.filterwarnings('ignore', category=FutureWarning)\n",
        "\n",
        "# Dados das métricas\n",
        "data = {\n",
        "    'Modelo': ['XGBOOST', 'XGBOOST', 'XGBOOST', 'XGBOOST'],\n",
        "    'Versao': ['5', '6', '7', '8'],\n",
        "    'Precision': [0.819091, 0.819091, 0.838666, 0.838666],\n",
        "    'Recall': [0.410856, 0.410856, 0.386926, 0.386926],\n",
        "    'F1 Score': [0.547225, 0.547225, 0.529543, 0.529543],\n",
        "    'Acuracia': [0.661308, 0.661308, 0.657513, 0.657513],\n",
        "    'AUC': [0.660389, 0.660389, 0.65652, 0.65652]\n",
        "}\n",
        "\n",
        "# Convertendo os dados em um DataFrame\n",
        "df_XGboost = pd.DataFrame(data)\n",
        "\n",
        "# Configurando o estilo do seaborn\n",
        "sns.set(style=\"whitegrid\")\n",
        "\n",
        "# Criando gráficos de barras para cada métrica\n",
        "metrics = ['Precision', 'Recall', 'F1 Score', 'Acuracia', 'AUC']\n",
        "fig, axes = plt.subplots(3, 2, figsize=(14, 18))\n",
        "\n",
        "# Definindo a paleta de cores\n",
        "palette = sns.color_palette(\"husl\", len(df_XGboost['Versao'].unique()))\n",
        "\n",
        "for i, metric in enumerate(metrics):\n",
        "    ax = axes[i//2, i%2]\n",
        "    sns.barplot(x='Versao', y=metric, data=df_XGboost, ax=ax, palette=palette)\n",
        "    ax.set_title(f'Comparação de {metric} entre Versões')\n",
        "    ax.set_ylim(0, 1)  # Definir o limite do eixo y de 0 a 1 para todas as métricas\n",
        "\n",
        "# Remover o gráfico vazio\n",
        "fig.delaxes(axes[2, 1])\n",
        "\n",
        "# Ajustar layout\n",
        "plt.tight_layout()\n",
        "\n",
        "# Mostrar os gráficos\n",
        "plt.show()\n",
        "\n"
      ]
    },
    {
      "cell_type": "markdown",
      "metadata": {},
      "source": [
        "Observações:\n",
        "\n",
        "Precision (Precisão):\n",
        "A precisão aumentou ligeiramente de 0.819091 nas versões 5 e 6 para 0.838666 nas versões 7 e 8.\n",
        "Isso indica que os modelos das versões 7 e 8 são ligeiramente melhores em identificar verdadeiros positivos entre as previsões positivas feitas.\n",
        "\n",
        "Recall (Sensibilidade):\n",
        "O recall diminuiu de 0.410856 nas versões 5 e 6 para 0.386926 nas versões 7 e 8.\n",
        "Isso significa que os modelos das versões 7 e 8 identificam uma menor proporção de verdadeiros positivos entre todos os casos positivos reais.\n",
        "\n",
        "F1 Score:\n",
        "O F1 Score diminuiu de 0.547225 nas versões 5 e 6 para 0.529543 nas versões 7 e 8.\n",
        "Como o F1 Score é a média harmônica da precisão e do recall, essa diminuição reflete a redução no recall.\n",
        "\n",
        "Acurácia:\n",
        "A acurácia diminuiu ligeiramente de 0.661308 nas versões 5 e 6 para 0.657513 nas versões 7 e 8.\n",
        "Isso mostra que a proporção de previsões corretas entre todas as previsões feitas é um pouco menor nos modelos das versões 7 e 8.\n",
        "\n",
        "AUC (Área sob a Curva ROC):\n",
        "A AUC também diminuiu ligeiramente de 0.660389 nas versões 5 e 6 para 0.65652 nas versões 7 e 8.\n",
        "A AUC mede a capacidade do modelo de distinguir entre as classes, e uma ligeira diminuição indica uma leve perda na capacidade discriminativa dos modelos das versões 7 e 8.\n",
        "\n",
        "Interpretação:\n",
        "Modelos das versões 5 e 6: Parecem ter um melhor equilíbrio entre precisão e recall, resultando em um F1 Score e AUC ligeiramente melhores do que nas versões 7 e 8. Esses modelos são melhores em identificar positivos corretamente enquanto ainda capturam uma boa proporção de verdadeiros positivos.\n",
        "Modelos das versões 7 e 8: Embora tenham uma precisão ligeiramente maior, a diminuição do recall resulta em um F1 Score mais baixo. Esses modelos são mais conservadores, fazendo menos previsões positivas, mas quando o fazem, são mais precisos.\n",
        "\n",
        "Conclusão:\n",
        "Os modelos das versões 5 e 6 parecem ter um desempenho geral melhor, considerando o equilíbrio entre precisão e recall. Se o objetivo for maximizar a identificação de verdadeiros positivos (ou seja, manter um bom recall), as versões 5 e 6 seriam preferíveis. No entanto, se a prioridade for a precisão, as versões 7 e 8 poderiam ser mais adequadas, apesar do imp"
      ]
    }
  ],
  "metadata": {
    "colab": {
      "provenance": []
    },
    "kernelspec": {
      "display_name": "Python 3",
      "name": "python3"
    },
    "language_info": {
      "codemirror_mode": {
        "name": "ipython",
        "version": 3
      },
      "file_extension": ".py",
      "mimetype": "text/x-python",
      "name": "python",
      "nbconvert_exporter": "python",
      "pygments_lexer": "ipython3",
      "version": "3.12.3"
    }
  },
  "nbformat": 4,
  "nbformat_minor": 0
}
